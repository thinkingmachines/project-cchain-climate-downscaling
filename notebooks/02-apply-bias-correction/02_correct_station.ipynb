{
 "cells": [
  {
   "cell_type": "code",
   "execution_count": null,
   "metadata": {},
   "outputs": [],
   "source": [
    "%load_ext autoreload\n",
    "%autoreload 2\n",
    "\n",
    "# Standard imports\n",
    "from pathlib import Path\n",
    "import sys\n",
    "\n",
    "# Library imports\n",
    "import matplotlib.pyplot as plt\n",
    "import scipy.stats as sc\n",
    "from sklearn.metrics import mean_squared_error\n",
    "import xarray as xr\n",
    "\n",
    "# Util imports\n",
    "sys.path.append(\"../../\")\n",
    "import src.climate_downscaling_utils as cd"
   ]
  },
  {
   "cell_type": "markdown",
   "metadata": {},
   "source": [
    "# Correct station data\n",
    "\n",
    "This notebook applies bias correction algorithms on gridded data using station data.\n",
    "\n",
    "**Prerequisite**: Run `notebooks/02-apply-bias-correction/01_overlay_station.ipynb`"
   ]
  },
  {
   "cell_type": "markdown",
   "metadata": {},
   "source": [
    "### Set input parameters"
   ]
  },
  {
   "cell_type": "code",
   "execution_count": null,
   "metadata": {},
   "outputs": [],
   "source": [
    "CITY_NAME = \"Dagupan\"\n",
    "DATE = \"2008-07-01\"\n",
    "SHOULD_DEBUG = True\n",
    "PROCESSED_PATH = Path(\"../../data/02-processed\")\n",
    "CORRECTED_PATH = PROCESSED_PATH / \"bias-correction\"\n",
    "\n",
    "STATION_NC = CORRECTED_PATH / f\"station_{CITY_NAME.lower()}.nc\"\n",
    "GRIDDED_NC = (\n",
    "    PROCESSED_PATH\n",
    "    / f\"input/chirts_chirps_regridded_interpolated_{CITY_NAME.lower()}.nc\"\n",
    ")\n",
    "GRIDDED_SUBSET_NC = CORRECTED_PATH / f\"gridded_{CITY_NAME.lower()}.nc\""
   ]
  },
  {
   "cell_type": "markdown",
   "metadata": {},
   "source": [
    "### Set run parameters"
   ]
  },
  {
   "cell_type": "code",
   "execution_count": null,
   "metadata": {},
   "outputs": [],
   "source": [
    "variable_params = dict(\n",
    "    tmin=\"CHIRTS minimum temperature\",\n",
    "    # tmax=\"CHIRTS maximum temperature\",\n",
    "    # precip=\"CHIRPS precipitation\",\n",
    ")\n",
    "\n",
    "algo_params = [\n",
    "    dict(\n",
    "        name=\"Quantile Delta Mapping\",\n",
    "        func=cd.correct_gridded_quantile_mapping,\n",
    "    ),\n",
    "    # dict(\n",
    "    #     name=\"Liu et al. (2019)\",\n",
    "    #     func=cd.correct_gridded_liu,\n",
    "    # ),\n",
    "    # dict(\n",
    "    #    name=\"Z-Score\",\n",
    "    #    func=cd.correct_gridded_zscore,\n",
    "    # ),\n",
    "]"
   ]
  },
  {
   "cell_type": "markdown",
   "metadata": {},
   "source": [
    "### Load data"
   ]
  },
  {
   "cell_type": "code",
   "execution_count": null,
   "metadata": {},
   "outputs": [],
   "source": [
    "station_ds = xr.open_dataset(STATION_NC, engine=\"scipy\")\n",
    "gridded_ds = xr.open_dataset(GRIDDED_NC, engine=\"scipy\")\n",
    "gridded_subset_ds = xr.open_dataset(GRIDDED_SUBSET_NC, engine=\"scipy\")"
   ]
  },
  {
   "cell_type": "code",
   "execution_count": null,
   "metadata": {},
   "outputs": [],
   "source": [
    "station_lat = station_ds[\"lat\"].item()\n",
    "station_lon = station_ds[\"lon\"].item()"
   ]
  },
  {
   "cell_type": "markdown",
   "metadata": {},
   "source": [
    "# Apply bias correction"
   ]
  },
  {
   "cell_type": "code",
   "execution_count": null,
   "metadata": {},
   "outputs": [],
   "source": [
    "for var, title in variable_params.items():\n",
    "    print(f\"Now doing {title}\")\n",
    "\n",
    "    gridded_da = gridded_ds[var]  #\n",
    "    gridded_subset_da = gridded_subset_ds[var]\n",
    "    station_da = station_ds[var]\n",
    "\n",
    "    if SHOULD_DEBUG:\n",
    "        gridded_da.sel(time=DATE, method=\"nearest\").plot()\n",
    "        plt.plot(station_lon, station_lat, \"o\")\n",
    "        plt.show()\n",
    "\n",
    "        gridded_subset_da.sel(time=DATE, method=\"nearest\").plot()\n",
    "        plt.plot(station_lon, station_lat, \"o\")\n",
    "        plt.show()\n",
    "\n",
    "        gridded_subset_da.plot.hist(bins=15)\n",
    "        plt.show()\n",
    "\n",
    "    for algo_param in algo_params:\n",
    "        print(f\"Now doing {algo_param['name']} bias correction\")\n",
    "\n",
    "        if algo_param[\"name\"] == \"Quantile Delta Mapping\":\n",
    "            corrected_da = algo_param[\"func\"](\n",
    "                gridded_da=gridded_subset_da,\n",
    "                station_da=station_da[:, 0, 0].drop_vars([\"lat\", \"lon\"]),\n",
    "                should_plot=SHOULD_DEBUG,\n",
    "            )\n",
    "        else:\n",
    "            corrected_da = algo_param[\"func\"](\n",
    "                gridded_subset_da.sel(time=DATE, method=\"nearest\"),\n",
    "                station_da=station_da.sel(time=DATE, method=\"nearest\"),\n",
    "                std_scale=0.1,\n",
    "                should_plot=SHOULD_DEBUG,\n",
    "            )\n",
    "\n",
    "        if SHOULD_DEBUG:\n",
    "            gridded_subset_slice_da = gridded_subset_da.sel(time=DATE, method=\"nearest\")\n",
    "            corrected_slice_da = corrected_da.sel(time=DATE, method=\"nearest\")\n",
    "\n",
    "            plot_min = min(\n",
    "                [corrected_slice_da.min(), gridded_subset_slice_da.min()]\n",
    "            ).values\n",
    "            plot_max = max(\n",
    "                [corrected_slice_da.max(), gridded_subset_slice_da.max()]\n",
    "            ).values\n",
    "\n",
    "            gridded_subset_slice_da.plot(vmin=plot_min, vmax=plot_max)\n",
    "            plt.title(title)\n",
    "            plt.show()\n",
    "\n",
    "            corrected_slice_da.plot(vmin=plot_min, vmax=plot_max)\n",
    "            plt.title(f\"Corrected {title}\\n{algo_param['name']}\")\n",
    "            plt.show()\n",
    "\n",
    "            abs(corrected_slice_da - gridded_subset_slice_da).plot(cmap=\"RdYlGn\")\n",
    "            plt.title(\n",
    "                f\"Difference between corrected and uncorrected\\n{title}\\n{algo_param['name']}\"\n",
    "            )\n",
    "            plt.show()"
   ]
  },
  {
   "cell_type": "markdown",
   "metadata": {},
   "source": [
    "### Plot select dates"
   ]
  },
  {
   "cell_type": "code",
   "execution_count": null,
   "metadata": {},
   "outputs": [],
   "source": [
    "for slice_date in [f\"2008-{i:02d}-20\" for i in range(7, 12 + 1)]:\n",
    "    print(slice_date)\n",
    "    gridded_subset_slice_da = gridded_subset_da.sel(time=slice_date)\n",
    "    corrected_slice_da = corrected_da.sel(time=slice_date)\n",
    "\n",
    "    plot_min = min([corrected_slice_da.min(), gridded_subset_slice_da.min()]).values\n",
    "    plot_max = max([corrected_slice_da.max(), gridded_subset_slice_da.max()]).values\n",
    "\n",
    "    gridded_subset_slice_da.plot(vmin=plot_min, vmax=plot_max)\n",
    "    plt.title(f\"{slice_date}\\n{title}\")\n",
    "    plt.show()\n",
    "\n",
    "    corrected_slice_da.plot(vmin=plot_min, vmax=plot_max)\n",
    "    plt.title(\n",
    "        f\"{slice_date}\\nCorrected {title}\\n{algo_param['name']}\\nStation reading: {station_da.sel(time=slice_date).mean().item()}\"\n",
    "    )\n",
    "    plt.show()\n",
    "\n",
    "    (corrected_slice_da - gridded_subset_slice_da).plot(cmap=\"RdYlGn\")\n",
    "    plt.title(\n",
    "        f\"{slice_date}\\nDifference between corrected and uncorrected\\n{title}\\n{algo_param['name']}\"\n",
    "    )\n",
    "    plt.show()"
   ]
  },
  {
   "cell_type": "markdown",
   "metadata": {},
   "source": [
    "### Scatterplot"
   ]
  },
  {
   "cell_type": "code",
   "execution_count": null,
   "metadata": {},
   "outputs": [],
   "source": [
    "variable_name = \"Minimum Temperature\"\n",
    "units = \"°C\"\n",
    "plot_offset = 2.5\n",
    "# variable_name = \"Maximum Temperature\"\n",
    "# units = \"°C\"\n",
    "# plot_offset = 1\n",
    "# variable_name = \"Precipitation\"\n",
    "# units = \"mm/day\" #\"°C\"\n",
    "# plot_offset = 10\n",
    "\n",
    "station_aligned_da, corrected_aligned_da = xr.align(\n",
    "    station_da.mean(dim=[\"lat\", \"lon\"], skipna=True),\n",
    "    corrected_da.mean(dim=[\"lat\", \"lon\"], skipna=True),\n",
    "    join=\"inner\",\n",
    ")\n",
    "\n",
    "corr, pval = sc.pearsonr(station_aligned_da, corrected_aligned_da)\n",
    "rmse = mean_squared_error(station_aligned_da, corrected_aligned_da, squared=False)\n",
    "\n",
    "fig, ax = plt.subplots(1, 1)\n",
    "plot_min = min(station_aligned_da.min(), corrected_aligned_da.min()) - plot_offset\n",
    "plot_max = max(station_aligned_da.max(), corrected_aligned_da.max()) + plot_offset\n",
    "ax.plot(\n",
    "    [plot_min - plot_offset, plot_max + plot_offset],\n",
    "    [plot_min - plot_offset, plot_max + plot_offset],\n",
    "    \"k-\",\n",
    ")\n",
    "ax.plot(station_aligned_da, corrected_aligned_da, \"o\", color=\"firebrick\")\n",
    "ax.set_aspect(1)\n",
    "plt.xlabel(f\"Station {variable_name} ({units})\")\n",
    "plt.ylabel(f\"Corrected {variable_name} ({units})\")\n",
    "plt.title(\n",
    "    f\"Scatterplot of Corrected vs. Station {variable_name}\\ncorr: {corr:.3f} pval: {pval:.3f}\\nrmse: {rmse:.3f} {units}\"\n",
    ")\n",
    "plt.xlim(plot_min, plot_max)\n",
    "plt.ylim(plot_min, plot_max)\n",
    "plt.show()"
   ]
  },
  {
   "cell_type": "code",
   "execution_count": null,
   "metadata": {},
   "outputs": [],
   "source": []
  }
 ],
 "metadata": {
  "kernelspec": {
   "display_name": "climate-downscaling",
   "language": "python",
   "name": "python3"
  },
  "language_info": {
   "codemirror_mode": {
    "name": "ipython",
    "version": 3
   },
   "file_extension": ".py",
   "mimetype": "text/x-python",
   "name": "python",
   "nbconvert_exporter": "python",
   "pygments_lexer": "ipython3",
   "version": "3.10.14"
  }
 },
 "nbformat": 4,
 "nbformat_minor": 2
}
