{
 "cells": [
  {
   "cell_type": "code",
   "execution_count": 1,
   "metadata": {
    "id": "DmkudOVUVITm"
   },
   "outputs": [],
   "source": [
    "import cdsapi\n",
    "import os\n",
    "import sys\n",
    "from pathlib import Path\n",
    "import time\n",
    "from loguru import logger\n",
    "import itertools\n",
    "from getpass import getpass"
   ]
  },
  {
   "cell_type": "markdown",
   "metadata": {
    "id": "RTOkZscLPxqJ"
   },
   "source": [
    "# Download ERA5 files\n",
    "\n",
    "This notebook goes through the process of downloading ERA5 Surface data using the Climate Data Store (CDS) API with the following parameters."
   ]
  },
  {
   "cell_type": "markdown",
   "metadata": {
    "id": "lTR250FsWnCW"
   },
   "source": [
    "### Set up the API Key\n",
    "In this section, we install the CDS UID and API Key needed to access the API. To get these, first register for an account [here](https://cds.climate.copernicus.eu/#!/home)."
   ]
  },
  {
   "cell_type": "code",
   "execution_count": 2,
   "metadata": {},
   "outputs": [
    {
     "name": "stdout",
     "output_type": "stream",
     "text": [
      "/home/jace/.cdsapirc exists: True\n"
     ]
    }
   ],
   "source": [
    "CDS_API_SECRETS_FILE = Path.home() / \".cdsapirc\"\n",
    "print(f\"{CDS_API_SECRETS_FILE} exists: {CDS_API_SECRETS_FILE.is_file()}\")\n",
    "\n",
    "# Set to True to prompt entering API UID and Key again even if file already exists\n",
    "OVERWRITE_SECRETS = False"
   ]
  },
  {
   "cell_type": "code",
   "execution_count": 3,
   "metadata": {
    "colab": {
     "base_uri": "https://localhost:8080/"
    },
    "id": "Anq7h3wUUoth",
    "outputId": "c2962ae1-5e4b-4bdd-a0ec-d7cf12f4cfe8"
   },
   "outputs": [
    {
     "name": "stdout",
     "output_type": "stream",
     "text": [
      "Using API file at /home/jace/.cdsapirc\n"
     ]
    }
   ],
   "source": [
    "if not CDS_API_SECRETS_FILE.is_file() or OVERWRITE_SECRETS:\n",
    "    print(f\"Creating new API SECRETS file at {CDS_API_SECRETS_FILE}\")\n",
    "    uid = getpass(\"Enter your CDS API UID here\")\n",
    "    apikey = getpass(\"Enter your CDS API Key here\")\n",
    "    key = f\"{uid}:{apikey}\"\n",
    "\n",
    "    # Install the API Key\n",
    "    # https://stackoverflow.com/questions/64304862/using-cdsapi-in-google-colab\n",
    "    url = \"url: https://cds.climate.copernicus.eu/api/v2\"\n",
    "    with open(CDS_API_SECRETS_FILE, \"w\") as f:\n",
    "        f.write(\"\\n\".join([url, f\"key: {key}\"]))\n",
    "    print(f\"File created at {CDS_API_SECRETS_FILE}\")\n",
    "else:\n",
    "    print(f\"Using API file at {CDS_API_SECRETS_FILE}\")"
   ]
  },
  {
   "cell_type": "markdown",
   "metadata": {},
   "source": [
    "### Create CDS API client object"
   ]
  },
  {
   "cell_type": "code",
   "execution_count": 4,
   "metadata": {},
   "outputs": [],
   "source": [
    "c = cdsapi.Client()"
   ]
  },
  {
   "cell_type": "markdown",
   "metadata": {},
   "source": [
    "### Set up logging"
   ]
  },
  {
   "cell_type": "code",
   "execution_count": 5,
   "metadata": {},
   "outputs": [
    {
     "data": {
      "text/plain": [
       "2"
      ]
     },
     "execution_count": 5,
     "metadata": {},
     "output_type": "execute_result"
    }
   ],
   "source": [
    "LOG_PATH = Path(\"../../logs/\")\n",
    "\n",
    "# Configure logger\n",
    "logger.remove()\n",
    "logger.add(sys.stderr, format=\"{time} {level} {message}\", level=\"INFO\")\n",
    "\n",
    "# Configure daily rotation for file logging\n",
    "daily_sink_file_fmt = str(LOG_PATH / \"era5_{time:YYYY-MM-DD}.log\")\n",
    "logger.add(\n",
    "    daily_sink_file_fmt,\n",
    "    rotation=\"00:00\",\n",
    "    format=\"{time} {level} {message}\",\n",
    "    level=\"INFO\",\n",
    ")"
   ]
  },
  {
   "cell_type": "markdown",
   "metadata": {
    "id": "IIY9TI-_XFLN"
   },
   "source": [
    "### Define download request parameters for hourly downloads"
   ]
  },
  {
   "cell_type": "code",
   "execution_count": 6,
   "metadata": {},
   "outputs": [],
   "source": [
    "## Set user-defined paramters here\n",
    "PH_BBOX = [\n",
    "    21.5,  # maxy\n",
    "    116.5,  # minx\n",
    "    4.25,  # miny\n",
    "    127,  # maxx\n",
    "]\n",
    "\n",
    "START_YEAR = 2003\n",
    "END_YEAR = 2022\n",
    "\n",
    "VARIABLES = [\n",
    "    \"10m_u_component_of_wind\",\n",
    "    \"10m_v_component_of_wind\",\n",
    "    \"2m_dewpoint_temperature\",\n",
    "    \"2m_temperature\",\n",
    "    \"surface_pressure\",\n",
    "    \"total_cloud_cover\",\n",
    "    \"total_precipitation\",\n",
    "]"
   ]
  },
  {
   "cell_type": "code",
   "execution_count": 7,
   "metadata": {},
   "outputs": [],
   "source": [
    "# Set the destination folder\n",
    "OUTPUT_PATH = Path(\"../../data/01-raw/era5/\")\n",
    "OUTPUT_PATH.mkdir(exist_ok=True)"
   ]
  },
  {
   "cell_type": "code",
   "execution_count": 8,
   "metadata": {},
   "outputs": [],
   "source": [
    "years = [str(x) for x in range(START_YEAR, END_YEAR + 1, 1)]\n",
    "months = [\n",
    "    \"01\",\n",
    "    \"02\",\n",
    "    \"03\",\n",
    "    \"04\",\n",
    "    \"05\",\n",
    "    \"06\",\n",
    "    \"07\",\n",
    "    \"08\",\n",
    "    \"09\",\n",
    "    \"10\",\n",
    "    \"11\",\n",
    "    \"12\",\n",
    "]"
   ]
  },
  {
   "cell_type": "markdown",
   "metadata": {},
   "source": [
    "### Download monthly files\n",
    "Check the logfile in `logs/` to see the progress"
   ]
  },
  {
   "cell_type": "code",
   "execution_count": 12,
   "metadata": {},
   "outputs": [
    {
     "name": "stderr",
     "output_type": "stream",
     "text": [
      "2024-03-17T22:06:01.930692+0800 INFO Downloading for the year 2018 and month 12 to filename ERA5_PH_201812_surface_hourly.nc\n",
      "2024-03-17T22:06:01.932018+0800 WARNING ERA5_PH_201812_surface_hourly.nc already exists in ../../data/01-raw/era5! Skipping request.\n",
      "2024-03-17T22:06:01.932517+0800 INFO Downloading for the year 2018 and month 01 to filename ERA5_PH_201801_surface_hourly.nc\n",
      "2024-03-17T22:06:01.933103+0800 INFO Submitting download request to CDS\n",
      "2024-03-17 22:06:02,414 INFO Welcome to the CDS\n",
      "2024-03-17 22:06:02,415 INFO Sending request to https://cds.climate.copernicus.eu/api/v2/resources/reanalysis-era5-single-levels\n",
      "2024-03-17 22:06:02,827 INFO Request is queued\n",
      "2024-03-18 09:01:10,703 WARNING Connection error: [('Connection aborted.', RemoteDisconnected('Remote end closed connection without response'))]. Attempt 1 of 500.\n",
      "2024-03-18 09:01:10,703 WARNING Retrying in 120 seconds\n",
      "2024-03-18 09:03:10,704 INFO Retrying now...\n",
      "2024-03-18 09:03:14,112 INFO Request is completed\n",
      "2024-03-18 09:03:14,114 INFO Downloading https://download-0012-clone.copernicus-climate.eu/cache-compute-0012/cache/data1/adaptor.mars.internal-1710694338.6389332-17429-15-2747df9f-d986-465e-8256-5d61d707f21d.nc to ../../data/01-raw/era5/ERA5_PH_201801_surface_hourly.nc (29.9M)\n",
      "2024-03-18 10:13:17,203 INFO Download rate 7.3K/s     \n",
      "2024-03-18T10:13:22.084471+0800 INFO File download ERA5_PH_201801_surface_hourly.nc complete! Filesize: 29.91 Mb\n",
      "2024-03-18T10:13:22.091843+0800 INFO Downloading for the year 2018 and month 02 to filename ERA5_PH_201802_surface_hourly.nc\n",
      "2024-03-18T10:13:22.094821+0800 INFO Submitting download request to CDS\n",
      "2024-03-18 10:13:22,493 INFO Welcome to the CDS\n",
      "2024-03-18 10:13:22,495 INFO Sending request to https://cds.climate.copernicus.eu/api/v2/resources/reanalysis-era5-single-levels\n",
      "2024-03-18 10:13:22,902 INFO Request is queued\n",
      "2024-03-18 13:52:33,405 INFO Request is running\n",
      "2024-03-18 14:04:42,480 INFO Request is completed\n",
      "2024-03-18 14:04:42,481 INFO Downloading https://download-0020.copernicus-climate.eu/cache-compute-0020/cache/data7/adaptor.mars.internal-1710741764.643668-6501-1-a9415108-5e3a-4607-b03d-a91a4e303668.nc to ../../data/01-raw/era5/ERA5_PH_201802_surface_hourly.nc (27M)\n",
      "2024-03-18 14:05:23,393 INFO Download rate 676.1K/s \n",
      "2024-03-18T14:05:23.733948+0800 INFO File download ERA5_PH_201802_surface_hourly.nc complete! Filesize: 27.01 Mb\n",
      "2024-03-18T14:05:23.737286+0800 INFO Downloading for the year 2018 and month 03 to filename ERA5_PH_201803_surface_hourly.nc\n",
      "2024-03-18T14:05:23.749852+0800 INFO Submitting download request to CDS\n",
      "2024-03-18 14:05:24,160 INFO Welcome to the CDS\n",
      "2024-03-18 14:05:24,161 INFO Sending request to https://cds.climate.copernicus.eu/api/v2/resources/reanalysis-era5-single-levels\n",
      "2024-03-18 14:05:24,556 INFO Request is queued\n"
     ]
    }
   ],
   "source": [
    "start_time = time.time()\n",
    "\n",
    "for year, month in itertools.product(years, months):\n",
    "    try:\n",
    "        output_filename = f\"ERA5_PH_{year}{month}_surface_hourly.nc\"\n",
    "        logger.info(\n",
    "            f\"Downloading for the year {year} and month {month} to filename {output_filename}\"\n",
    "        )\n",
    "\n",
    "        # Check if output_filename exists\n",
    "        if (OUTPUT_PATH / output_filename).is_file():\n",
    "            logger.warning(\n",
    "                f\"{output_filename} already exists in {OUTPUT_PATH}! Skipping request.\"\n",
    "            )\n",
    "            continue\n",
    "\n",
    "        # Build request parameters\n",
    "        dataset_short_name = \"reanalysis-era5-single-levels\"\n",
    "        request_parameters = {\n",
    "            \"product_type\": \"reanalysis\",\n",
    "            \"format\": \"netcdf\",\n",
    "            \"variable\": VARIABLES,\n",
    "            \"year\": year,\n",
    "            \"month\": month,\n",
    "            \"day\": [\n",
    "                \"01\",\n",
    "                \"02\",\n",
    "                \"03\",\n",
    "                \"04\",\n",
    "                \"05\",\n",
    "                \"06\",\n",
    "                \"07\",\n",
    "                \"08\",\n",
    "                \"09\",\n",
    "                \"10\",\n",
    "                \"11\",\n",
    "                \"12\",\n",
    "                \"13\",\n",
    "                \"14\",\n",
    "                \"15\",\n",
    "                \"16\",\n",
    "                \"17\",\n",
    "                \"18\",\n",
    "                \"19\",\n",
    "                \"20\",\n",
    "                \"21\",\n",
    "                \"22\",\n",
    "                \"23\",\n",
    "                \"24\",\n",
    "                \"25\",\n",
    "                \"26\",\n",
    "                \"27\",\n",
    "                \"28\",\n",
    "                \"29\",\n",
    "                \"30\",\n",
    "                \"31\",\n",
    "            ],\n",
    "            \"time\": [\n",
    "                \"00:00\",\n",
    "                \"01:00\",\n",
    "                \"02:00\",\n",
    "                \"03:00\",\n",
    "                \"04:00\",\n",
    "                \"05:00\",\n",
    "                \"06:00\",\n",
    "                \"07:00\",\n",
    "                \"08:00\",\n",
    "                \"09:00\",\n",
    "                \"10:00\",\n",
    "                \"11:00\",\n",
    "                \"12:00\",\n",
    "                \"13:00\",\n",
    "                \"14:00\",\n",
    "                \"15:00\",\n",
    "                \"16:00\",\n",
    "                \"17:00\",\n",
    "                \"18:00\",\n",
    "                \"19:00\",\n",
    "                \"20:00\",\n",
    "                \"21:00\",\n",
    "                \"22:00\",\n",
    "                \"23:00\",\n",
    "            ],\n",
    "            \"area\": PH_BBOX,\n",
    "        }\n",
    "        logger.info(\"Submitting download request to CDS\")\n",
    "        c.retrieve(\n",
    "            dataset_short_name, request_parameters, OUTPUT_PATH / output_filename\n",
    "        )\n",
    "\n",
    "        # Print out the file size of the output file\n",
    "        file_stats = os.stat(OUTPUT_PATH / output_filename)\n",
    "        filesize_MB = file_stats.st_size / (1024 * 1024)\n",
    "        logger.info(\n",
    "            f\"File download {output_filename} complete! Filesize: {filesize_MB:.2f} Mb\"\n",
    "        )\n",
    "\n",
    "    # Catch keyboard interrupts\n",
    "    except KeyboardInterrupt:\n",
    "        logger.error(\"Process interrupted using keyboard.\")\n",
    "        break\n",
    "\n",
    "    # Catch other errors\n",
    "    except Exception as e:\n",
    "        logger.error(f\"Exception raised: {e}\")\n",
    "\n",
    "end_time = time.time()\n",
    "\n",
    "# Calculate and print the runtime\n",
    "runtime_seconds = end_time - start_time\n",
    "human_readable_runtime = time.strftime(\"%H:%M:%S\", time.gmtime(runtime_seconds))\n",
    "print(\"Runtime:\", human_readable_runtime)"
   ]
  }
 ],
 "metadata": {
  "colab": {
   "provenance": []
  },
  "kernelspec": {
   "display_name": "Python 3 (ipykernel)",
   "language": "python",
   "name": "python3"
  },
  "language_info": {
   "codemirror_mode": {
    "name": "ipython",
    "version": 3
   },
   "file_extension": ".py",
   "mimetype": "text/x-python",
   "name": "python",
   "nbconvert_exporter": "python",
   "pygments_lexer": "ipython3",
   "version": "3.10.13"
  }
 },
 "nbformat": 4,
 "nbformat_minor": 4
}
