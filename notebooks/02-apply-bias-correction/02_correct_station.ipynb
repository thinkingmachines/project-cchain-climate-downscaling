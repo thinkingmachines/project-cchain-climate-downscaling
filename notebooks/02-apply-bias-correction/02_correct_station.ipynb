{
 "cells": [
  {
   "cell_type": "code",
   "execution_count": null,
   "metadata": {},
   "outputs": [],
   "source": [
    "%load_ext autoreload\n",
    "%autoreload 2\n",
    "\n",
    "# Standard imports\n",
    "from pathlib import Path\n",
    "import sys\n",
    "\n",
    "# Library imports\n",
    "import matplotlib.pyplot as plt\n",
    "import xarray as xr\n",
    "\n",
    "# Util imports\n",
    "sys.path.append(\"../../\")\n",
    "import src.climate_downscaling_utils as cd"
   ]
  },
  {
   "cell_type": "markdown",
   "metadata": {},
   "source": [
    "# Correct station data\n",
    "\n",
    "This notebook applies bias correction algorithms on gridded data using station data.\n",
    "\n",
    "**Prerequisite**: Run `notebooks/02-apply-bias-correction/01_overlay_station.ipynb`"
   ]
  },
  {
   "cell_type": "markdown",
   "metadata": {},
   "source": [
    "### Set input parameters"
   ]
  },
  {
   "cell_type": "code",
   "execution_count": null,
   "metadata": {},
   "outputs": [],
   "source": [
    "CITY_NAME = \"Dagupan\"\n",
    "DATE = \"2008-07-01\"\n",
    "SHOULD_DEBUG = False\n",
    "\n",
    "PROCESSED_PATH = Path(\"../../data/02-processed\")\n",
    "CORRECTED_PATH = PROCESSED_PATH / \"bias-correction\"\n",
    "\n",
    "STATION_NC = CORRECTED_PATH / f\"station_{CITY_NAME.lower()}.nc\"\n",
    "GRIDDED_NC = (\n",
    "    PROCESSED_PATH\n",
    "    / f\"input/chirts_chirps_regridded_interpolated_{CITY_NAME.lower()}.nc\"\n",
    ")\n",
    "GRIDDED_SUBSET_NC = CORRECTED_PATH / f\"gridded_{CITY_NAME.lower()}.nc\""
   ]
  },
  {
   "cell_type": "markdown",
   "metadata": {},
   "source": [
    "### Set run parameters"
   ]
  },
  {
   "cell_type": "code",
   "execution_count": null,
   "metadata": {},
   "outputs": [],
   "source": [
    "variable_params = dict(\n",
    "    tmin=\"CHIRTS minimum temperature\",\n",
    "    # tmax=\"CHIRTS maximum temperature\",\n",
    "    # precip=\"CHIRPS precipitation\",\n",
    ")\n",
    "\n",
    "algo_params = [\n",
    "    dict(\n",
    "        name=\"Liu et al. (2019)\",\n",
    "        func=cd.correct_gridded_liu,\n",
    "    ),\n",
    "    # dict(\n",
    "    #    name=\"Z-Score\",\n",
    "    #    func=cd.correct_gridded_zscore,\n",
    "    # ),\n",
    "]"
   ]
  },
  {
   "cell_type": "markdown",
   "metadata": {},
   "source": [
    "### Load data"
   ]
  },
  {
   "cell_type": "code",
   "execution_count": null,
   "metadata": {},
   "outputs": [],
   "source": [
    "station_ds = xr.open_dataset(STATION_NC, engine=\"scipy\")\n",
    "gridded_ds = xr.open_dataset(GRIDDED_NC, engine=\"scipy\")\n",
    "gridded_subset_ds = xr.open_dataset(GRIDDED_SUBSET_NC, engine=\"scipy\")"
   ]
  },
  {
   "cell_type": "code",
   "execution_count": null,
   "metadata": {},
   "outputs": [],
   "source": [
    "station_lat = station_ds[\"lat\"].item()\n",
    "station_lon = station_ds[\"lon\"].item()"
   ]
  },
  {
   "cell_type": "markdown",
   "metadata": {},
   "source": [
    "# Apply bias correction"
   ]
  },
  {
   "cell_type": "code",
   "execution_count": null,
   "metadata": {},
   "outputs": [],
   "source": [
    "for var, title in variable_params.items():\n",
    "    print(f\"Now doing {title}\")\n",
    "\n",
    "    gridded_da = gridded_ds[var].sel(time=DATE, method=\"nearest\")\n",
    "    gridded_subset_da = gridded_subset_ds[var].sel(time=DATE, method=\"nearest\")\n",
    "\n",
    "    if SHOULD_DEBUG:\n",
    "        gridded_da.plot()\n",
    "        plt.plot(station_lon, station_lat, \"o\")\n",
    "        plt.show()\n",
    "\n",
    "        gridded_subset_da.plot()\n",
    "        plt.plot(station_lon, station_lat, \"o\")\n",
    "        plt.show()\n",
    "\n",
    "        gridded_subset_da.plot.hist(bins=15)\n",
    "        plt.show()\n",
    "\n",
    "    for algo_param in algo_params:\n",
    "        print(f\"Now doing {algo_param['name']} bias correction\")\n",
    "\n",
    "        corrected_da = algo_param[\"func\"](\n",
    "            gridded_subset_da,\n",
    "            station_da=station_ds[var].sel(time=DATE, method=\"nearest\"),\n",
    "            std_scale=0.1,\n",
    "            should_plot=SHOULD_DEBUG,\n",
    "        )\n",
    "\n",
    "        if SHOULD_DEBUG:\n",
    "            plot_min = min([corrected_da.min(), gridded_subset_da.min()]).values\n",
    "            plot_max = max([corrected_da.max(), gridded_subset_da.max()]).values\n",
    "\n",
    "            gridded_subset_da.plot(vmin=plot_min, vmax=plot_max)\n",
    "            plt.title(title)\n",
    "            plt.show()\n",
    "\n",
    "            corrected_da.plot(vmin=plot_min, vmax=plot_max)\n",
    "            plt.title(f\"Corrected {title}\\n{algo_param['name']}\")\n",
    "            plt.show()\n",
    "\n",
    "            (corrected_da - gridded_subset_da).plot(cmap=\"RdBu\")\n",
    "            plt.title(\n",
    "                f\"Difference between corrected and uncorrected\\n{title}\\n{algo_param['name']}\"\n",
    "            )\n",
    "            plt.show()"
   ]
  },
  {
   "cell_type": "code",
   "execution_count": null,
   "metadata": {},
   "outputs": [],
   "source": [
    "corrected_da"
   ]
  },
  {
   "cell_type": "code",
   "execution_count": null,
   "metadata": {},
   "outputs": [],
   "source": []
  }
 ],
 "metadata": {
  "kernelspec": {
   "display_name": "climate-downscaling",
   "language": "python",
   "name": "python3"
  },
  "language_info": {
   "codemirror_mode": {
    "name": "ipython",
    "version": 3
   },
   "file_extension": ".py",
   "mimetype": "text/x-python",
   "name": "python",
   "nbconvert_exporter": "python",
   "pygments_lexer": "ipython3",
   "version": "3.10.14"
  }
 },
 "nbformat": 4,
 "nbformat_minor": 2
}
