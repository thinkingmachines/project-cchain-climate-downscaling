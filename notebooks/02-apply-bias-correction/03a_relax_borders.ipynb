{
 "cells": [
  {
   "cell_type": "code",
   "execution_count": null,
   "metadata": {},
   "outputs": [],
   "source": [
    "%load_ext autoreload\n",
    "%autoreload 2\n",
    "\n",
    "# Standard imports\n",
    "from pathlib import Path\n",
    "import sys\n",
    "\n",
    "# Library imports\n",
    "import matplotlib.pyplot as plt\n",
    "import numpy as np\n",
    "import xarray as xr\n",
    "\n",
    "# Util imports\n",
    "sys.path.append(\"../../\")"
   ]
  },
  {
   "cell_type": "markdown",
   "metadata": {},
   "source": [
    "### Relax borders of station influence and original gridded data"
   ]
  },
  {
   "cell_type": "code",
   "execution_count": null,
   "metadata": {},
   "outputs": [],
   "source": [
    "CITY_NAME = \"Davao\"  # add underscore here for Cagayan De Oro\n",
    "RESOLUTION = 0.02\n",
    "CELL_WIDTH = 3\n",
    "STATION_RESOLUTION_DEGREES = 0.25\n",
    "SMOOTHENING_WIDTH = 7\n",
    "STATION_PURE_INFLUENCE_SCALE = 0.125\n",
    "BIAS_CORRECTION_STD_LIMIT = 1.5\n",
    "\n",
    "PROCESSED_PATH = Path(\"../../data/02-processed\")\n",
    "CORRECTED_PATH = PROCESSED_PATH / \"bias-correction-radial-optimized\"\n",
    "CORRECTED_IMAGES_PATH = CORRECTED_PATH / \"images\"\n",
    "CORRECTED_IMAGES_PATH.mkdir(parents=True, exist_ok=True)\n",
    "\n",
    "STATION_NC = CORRECTED_PATH / f\"station_{CITY_NAME.lower()}.nc\"\n",
    "GRIDDED_NC = (\n",
    "    PROCESSED_PATH\n",
    "    / f\"input/chirts_chirps_regridded_interpolated_{CITY_NAME.split('_')[0].lower()}.nc\"\n",
    ")\n",
    "CORRECTED_SUBSET_NC = CORRECTED_PATH / f\"corrected_subset_{CITY_NAME.lower()}.nc\"\n",
    "CORRECTED_NC = CORRECTED_PATH / f\"corrected_gridded_{CITY_NAME.lower()}.nc\""
   ]
  },
  {
   "cell_type": "code",
   "execution_count": null,
   "metadata": {},
   "outputs": [],
   "source": [
    "gridded_all_ds = xr.open_dataset(GRIDDED_NC).sel(band=1)[[\"tmin\", \"tmax\", \"precip\"]]\n",
    "corrected_subset_all_ds = xr.open_dataset(CORRECTED_SUBSET_NC)\n",
    "station_ds = xr.open_dataset(STATION_NC)\n",
    "station_lat = station_ds[\"lat\"].values\n",
    "station_lon = station_ds[\"lon\"].values\n",
    "\n",
    "# get common time axis\n",
    "gridded_aligned_ds, _ = xr.align(\n",
    "    gridded_all_ds,\n",
    "    corrected_subset_all_ds,\n",
    "    join=\"inner\",\n",
    ")\n",
    "\n",
    "gridded_ds = gridded_all_ds.sel(time=gridded_aligned_ds[\"time\"])\n",
    "corrected_subset_ds = corrected_subset_all_ds.sel(time=gridded_aligned_ds[\"time\"])"
   ]
  },
  {
   "cell_type": "markdown",
   "metadata": {},
   "source": [
    "### Check if subset is within 2 std of surroundings for all"
   ]
  },
  {
   "cell_type": "code",
   "execution_count": null,
   "metadata": {},
   "outputs": [],
   "source": [
    "station_surroundings_buffer = STATION_RESOLUTION_DEGREES * 1.5\n",
    "\n",
    "gridded_station_surroundings_ds = gridded_ds.where(\n",
    "    (\n",
    "        (gridded_ds.lat - station_lat) ** 2 + (gridded_ds.lon - station_lon) ** 2\n",
    "        <= station_surroundings_buffer**2\n",
    "    ),\n",
    "    drop=False,\n",
    ")"
   ]
  },
  {
   "cell_type": "code",
   "execution_count": null,
   "metadata": {},
   "outputs": [],
   "source": [
    "corrected_subset_time_mean_ds = corrected_subset_ds.mean(\n",
    "    dim=[\"lat\", \"lon\"], skipna=True\n",
    ")\n",
    "gridded_station_surroundings_time_mean_ds = gridded_station_surroundings_ds.mean(\n",
    "    dim=[\"lat\", \"lon\"], skipna=True\n",
    ")\n",
    "gridded_station_surroundings_time_std_ds = gridded_station_surroundings_ds.std(\n",
    "    dim=[\"lat\", \"lon\"], skipna=True\n",
    ")"
   ]
  },
  {
   "cell_type": "code",
   "execution_count": null,
   "metadata": {},
   "outputs": [],
   "source": [
    "is_greater_than_negative_threshold = (\n",
    "    -(corrected_subset_time_mean_ds - gridded_station_surroundings_time_mean_ds)\n",
    "    > BIAS_CORRECTION_STD_LIMIT * gridded_station_surroundings_time_std_ds\n",
    ")\n",
    "\n",
    "is_within_threshold = (\n",
    "    abs(corrected_subset_time_mean_ds - gridded_station_surroundings_time_mean_ds)\n",
    "    <= BIAS_CORRECTION_STD_LIMIT * gridded_station_surroundings_time_std_ds\n",
    ")\n",
    "\n",
    "is_greater_than_positive_threshold = (\n",
    "    corrected_subset_time_mean_ds - gridded_station_surroundings_time_mean_ds\n",
    ") > BIAS_CORRECTION_STD_LIMIT * gridded_station_surroundings_time_std_ds"
   ]
  },
  {
   "cell_type": "code",
   "execution_count": null,
   "metadata": {},
   "outputs": [],
   "source": [
    "shifted_subset_ds = (\n",
    "    (\n",
    "        corrected_subset_ds\n",
    "        + (\n",
    "            (\n",
    "                gridded_station_surroundings_time_mean_ds\n",
    "                - BIAS_CORRECTION_STD_LIMIT * gridded_station_surroundings_time_std_ds\n",
    "            )\n",
    "            - corrected_subset_time_mean_ds\n",
    "        )\n",
    "    )\n",
    "    * is_greater_than_negative_threshold\n",
    "    + (corrected_subset_ds * is_within_threshold)\n",
    "    + (\n",
    "        corrected_subset_ds\n",
    "        - (\n",
    "            corrected_subset_time_mean_ds\n",
    "            - (\n",
    "                gridded_station_surroundings_time_mean_ds\n",
    "                + BIAS_CORRECTION_STD_LIMIT * gridded_station_surroundings_time_std_ds\n",
    "            )\n",
    "        )\n",
    "    )\n",
    "    * is_greater_than_positive_threshold\n",
    ")"
   ]
  },
  {
   "cell_type": "markdown",
   "metadata": {},
   "source": [
    "### Prepare extended coordinates"
   ]
  },
  {
   "cell_type": "code",
   "execution_count": null,
   "metadata": {},
   "outputs": [],
   "source": [
    "lat_arr = corrected_subset_ds[\"lat\"].to_numpy()\n",
    "lat_min = lat_arr.min()\n",
    "lat_max = lat_arr.max()\n",
    "lat_min_add_arr = np.arange(\n",
    "    lat_min - (CELL_WIDTH * RESOLUTION), lat_min - RESOLUTION, RESOLUTION\n",
    ")\n",
    "lat_max_add_arr = np.arange(\n",
    "    lat_max + RESOLUTION, lat_max + ((CELL_WIDTH + 1) * RESOLUTION), RESOLUTION\n",
    ")\n",
    "lat_extended_arr = np.concatenate(\n",
    "    (\n",
    "        lat_min_add_arr,\n",
    "        lat_arr,\n",
    "        lat_max_add_arr,\n",
    "    )\n",
    ")\n",
    "\n",
    "lon_arr = corrected_subset_ds[\"lon\"].to_numpy()\n",
    "lon_min = lon_arr.min()\n",
    "lon_max = lon_arr.max()\n",
    "lon_min_add_arr = np.arange(\n",
    "    lon_min - (CELL_WIDTH * RESOLUTION), lon_min - RESOLUTION, RESOLUTION\n",
    ")\n",
    "lon_max_add_arr = np.arange(\n",
    "    lon_max + RESOLUTION, lon_max + (CELL_WIDTH * RESOLUTION), RESOLUTION\n",
    ")\n",
    "lon_extended_arr = np.concatenate(\n",
    "    (\n",
    "        lon_min_add_arr,\n",
    "        lon_arr,\n",
    "        lon_max_add_arr,\n",
    "    )\n",
    ")"
   ]
  },
  {
   "cell_type": "markdown",
   "metadata": {},
   "source": [
    "### Overlay corrected on top of original gridded"
   ]
  },
  {
   "cell_type": "code",
   "execution_count": null,
   "metadata": {},
   "outputs": [],
   "source": [
    "gridded_overlain_ds = gridded_ds.copy(deep=True)\n",
    "gridded_overlain_ds.loc[\n",
    "    dict(\n",
    "        lat=corrected_subset_ds[\"lat\"],\n",
    "        lon=corrected_subset_ds[\"lon\"],\n",
    "    )\n",
    "] = shifted_subset_ds.fillna(\n",
    "    gridded_overlain_ds.loc[\n",
    "        dict(\n",
    "            lat=corrected_subset_ds[\"lat\"],\n",
    "            lon=corrected_subset_ds[\"lon\"],\n",
    "        )\n",
    "    ]\n",
    ")\n",
    "# gridded_overlain_ds[\"tmin\"][0].plot()\n",
    "# plt.title(\n",
    "#     f\"{pd.DatetimeIndex(gridded_overlain_ds['time'])[0].strftime('%Y-%m-%d')}\\nCorrected on top of CHIRTS Minimum Temperature\"\n",
    "# )\n",
    "# plt.gca().set_aspect(1)\n",
    "# plt.savefig(\n",
    "#     CORRECTED_IMAGES_PATH\n",
    "#     / f\"{CITY_NAME.split('_')[0].lower()}_gridded_corrected_subset.png\",\n",
    "#     dpi=300,\n",
    "#     transparent=True,\n",
    "# )\n",
    "# plt.show()"
   ]
  },
  {
   "cell_type": "markdown",
   "metadata": {},
   "source": [
    "### Smoothen entire domain"
   ]
  },
  {
   "cell_type": "code",
   "execution_count": null,
   "metadata": {},
   "outputs": [],
   "source": [
    "gridded_smoothened_all_ds = gridded_overlain_ds.rolling(\n",
    "    lat=SMOOTHENING_WIDTH, lon=SMOOTHENING_WIDTH, min_periods=1, center=True\n",
    ").mean()"
   ]
  },
  {
   "cell_type": "markdown",
   "metadata": {},
   "source": [
    "### Replace center of station influence with corrected"
   ]
  },
  {
   "cell_type": "code",
   "execution_count": null,
   "metadata": {},
   "outputs": [],
   "source": [
    "station_preserve_buffer = STATION_PURE_INFLUENCE_SCALE * STATION_RESOLUTION_DEGREES\n",
    "\n",
    "corrected_subset_preserve_ds = shifted_subset_ds.where(\n",
    "    (\n",
    "        (shifted_subset_ds.lat - station_lat) ** 2\n",
    "        + (shifted_subset_ds.lon - station_lon) ** 2\n",
    "        <= station_preserve_buffer**2\n",
    "    ),\n",
    "    drop=False,\n",
    ")"
   ]
  },
  {
   "cell_type": "code",
   "execution_count": null,
   "metadata": {},
   "outputs": [],
   "source": [
    "gridded_smoothened_all_ds.loc[\n",
    "    dict(\n",
    "        lat=corrected_subset_preserve_ds[\"lat\"],\n",
    "        lon=corrected_subset_preserve_ds[\"lon\"],\n",
    "    )\n",
    "] = corrected_subset_preserve_ds.fillna(gridded_smoothened_all_ds)"
   ]
  },
  {
   "cell_type": "code",
   "execution_count": null,
   "metadata": {},
   "outputs": [],
   "source": [
    "# gridded_smoothened_all_ds.loc[\n",
    "#     dict(\n",
    "#         lat=corrected_subset_ds[\"lat\"][2:-2],\n",
    "#         lon=corrected_subset_ds[\"lon\"][2:-2],\n",
    "#     )\n",
    "# ] = corrected_subset_ds.isel(\n",
    "#     lat=range(len(corrected_subset_ds[\"lat\"]))[2:-2],\n",
    "#     lon=range(len(corrected_subset_ds[\"lon\"]))[2:-2],\n",
    "# )\n",
    "# gridded_smoothened_all_ds = gridded_smoothened_all_ds.where(gridded_ds.notnull())"
   ]
  },
  {
   "cell_type": "markdown",
   "metadata": {},
   "source": [
    "### Return the original gridded to the outer areas"
   ]
  },
  {
   "cell_type": "code",
   "execution_count": null,
   "metadata": {},
   "outputs": [],
   "source": [
    "corrected_preserve_buffer = 1.25 * STATION_RESOLUTION_DEGREES\n",
    "\n",
    "gridded_smoothened_ds = gridded_ds.copy(deep=True)\n",
    "gridded_smoothened_ds = gridded_smoothened_all_ds.where(\n",
    "    (\n",
    "        (gridded_smoothened_all_ds.lat - station_lat) ** 2\n",
    "        + (gridded_smoothened_all_ds.lon - station_lon) ** 2\n",
    "        <= corrected_preserve_buffer**2\n",
    "    ),\n",
    "    other=gridded_smoothened_ds,\n",
    "    drop=False,\n",
    ")\n",
    "gridded_smoothened_ds\n",
    "\n",
    "# get common time axis\n",
    "gridded_smoothened_corrected_ds = gridded_smoothened_ds.where(gridded_ds.notnull())"
   ]
  },
  {
   "cell_type": "code",
   "execution_count": null,
   "metadata": {},
   "outputs": [],
   "source": [
    "# # gridded_smoothened_ds = gridded_ds.copy(deep=True)\n",
    "# gridded_ds.loc[\n",
    "#     dict(\n",
    "#         lat=gridded_ds[\"lat\"].sel(lat=lat_extended_arr, method=\"nearest\"),\n",
    "#         lon=gridded_ds[\"lon\"].sel(lon=lon_extended_arr, method=\"nearest\"),\n",
    "#     )\n",
    "# ] = gridded_smoothened_all_ds.sel(\n",
    "#     lat=lat_extended_arr,\n",
    "#     lon=lon_extended_arr,\n",
    "#     method=\"nearest\",\n",
    "# )\n",
    "# gridded_ds[\"tmin\"][0].plot()\n",
    "# plt.title(\n",
    "#     f\"{pd.DatetimeIndex(gridded_ds['time'])[0].strftime('%Y-%m-%d')}\\nSmoothened Corrected Minimum Temperature\"\n",
    "# )\n",
    "# plt.savefig(\n",
    "#     CORRECTED_IMAGES_PATH / f\"{CITY_NAME.split('_')[0].lower()}_gridded_smoothened.png\",\n",
    "#     dpi=300,\n",
    "#     transparent=True,\n",
    "# )\n",
    "# plt.show()"
   ]
  },
  {
   "cell_type": "code",
   "execution_count": null,
   "metadata": {},
   "outputs": [],
   "source": [
    "DATE = \"2008-01-01\"\n",
    "var = \"tmin\"\n",
    "cmap = \"viridis\"  # \"RdBu_r\"\n",
    "dataset_dict = dict(\n",
    "    tmin=\"CHIRTS Minimum Temperature\",\n",
    "    tmax=\"CHIRTS Maximum Temperature\",\n",
    "    precip=\"CHIRPS Precipitation\",\n",
    ")\n",
    "\n",
    "plot_vmin = min(\n",
    "    gridded_ds[var].sel(time=DATE, method=\"nearest\").min(),\n",
    "    gridded_overlain_ds[var].sel(time=DATE, method=\"nearest\").min(),\n",
    "    gridded_smoothened_corrected_ds[var].sel(time=DATE, method=\"nearest\").min(),\n",
    ")\n",
    "plot_vmax = max(\n",
    "    gridded_ds[var].sel(time=DATE, method=\"nearest\").max(),\n",
    "    gridded_overlain_ds[var].sel(time=DATE, method=\"nearest\").max(),\n",
    "    gridded_smoothened_corrected_ds[var].sel(time=DATE, method=\"nearest\").max(),\n",
    ")\n",
    "\n",
    "gridded_ds[var].sel(time=DATE, method=\"nearest\").plot(\n",
    "    vmin=plot_vmin, vmax=plot_vmax, cmap=cmap\n",
    ")\n",
    "plt.title(f\"{DATE}\\n{dataset_dict[var]}\")\n",
    "plt.gca().set_aspect(1)\n",
    "plt.savefig(\n",
    "    CORRECTED_IMAGES_PATH / f\"{CITY_NAME.split('_')[0].lower()}_gridded.png\",\n",
    "    dpi=300,\n",
    "    transparent=True,\n",
    ")\n",
    "plt.show()\n",
    "\n",
    "corrected_subset_ds[var].sel(time=DATE, method=\"nearest\").plot(\n",
    "    vmin=plot_vmin, vmax=plot_vmax, cmap=cmap\n",
    ")\n",
    "plt.show()\n",
    "\n",
    "gridded_overlain_ds[var].sel(time=DATE, method=\"nearest\").plot(\n",
    "    vmin=plot_vmin, vmax=plot_vmax, cmap=cmap\n",
    ")\n",
    "plt.title(f\"{DATE}\\nCorrected on top of {dataset_dict[var]}\")\n",
    "plt.gca().set_aspect(1)\n",
    "plt.savefig(\n",
    "    CORRECTED_IMAGES_PATH\n",
    "    / f\"{CITY_NAME.split('_')[0].lower()}_gridded_corrected_subset.png\",\n",
    "    dpi=300,\n",
    "    transparent=True,\n",
    ")\n",
    "plt.show()\n",
    "\n",
    "gridded_smoothened_corrected_ds[var].sel(time=DATE, method=\"nearest\").plot(\n",
    "    vmin=plot_vmin, vmax=plot_vmax, cmap=cmap\n",
    ")\n",
    "plt.gca().set_aspect(1)\n",
    "\n",
    "plt.title(f\"{DATE}\\nSmoothened Corrected {dataset_dict[var]}\")\n",
    "plt.savefig(\n",
    "    CORRECTED_IMAGES_PATH / f\"{CITY_NAME.split('_')[0].lower()}_gridded_smoothened.png\",\n",
    "    dpi=300,\n",
    "    transparent=True,\n",
    ")\n",
    "plt.show()"
   ]
  },
  {
   "cell_type": "code",
   "execution_count": null,
   "metadata": {},
   "outputs": [],
   "source": [
    "gridded_smoothened_corrected_ds.to_netcdf(CORRECTED_NC, engine=\"scipy\")"
   ]
  },
  {
   "cell_type": "code",
   "execution_count": null,
   "metadata": {},
   "outputs": [],
   "source": []
  }
 ],
 "metadata": {
  "kernelspec": {
   "display_name": "climate-downscaling",
   "language": "python",
   "name": "python3"
  },
  "language_info": {
   "codemirror_mode": {
    "name": "ipython",
    "version": 3
   },
   "file_extension": ".py",
   "mimetype": "text/x-python",
   "name": "python",
   "nbconvert_exporter": "python",
   "pygments_lexer": "ipython3",
   "version": "3.10.14"
  }
 },
 "nbformat": 4,
 "nbformat_minor": 2
}
