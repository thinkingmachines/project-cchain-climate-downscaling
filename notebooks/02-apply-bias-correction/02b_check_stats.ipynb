{
 "cells": [
  {
   "cell_type": "code",
   "execution_count": null,
   "metadata": {},
   "outputs": [],
   "source": [
    "%load_ext autoreload\n",
    "%autoreload 2\n",
    "\n",
    "# Standard imports\n",
    "from pathlib import Path\n",
    "import sys\n",
    "\n",
    "# Library imports\n",
    "import pandas as pd\n",
    "\n",
    "# Util imports\n",
    "sys.path.append(\"../../\")"
   ]
  },
  {
   "cell_type": "markdown",
   "metadata": {},
   "source": [
    "### Check statistics of bias-corrected output"
   ]
  },
  {
   "cell_type": "code",
   "execution_count": null,
   "metadata": {},
   "outputs": [],
   "source": [
    "PROCESSED_PATH = Path(\"../../data/02-processed\")\n",
    "CORRECTED_PATH = PROCESSED_PATH / \"bias-correction-radial-optimized\""
   ]
  },
  {
   "cell_type": "code",
   "execution_count": null,
   "metadata": {},
   "outputs": [],
   "source": [
    "city_names = [\n",
    "    \"Dagupan\",\n",
    "    \"Palayan\",\n",
    "    \"Legazpi\",\n",
    "    \"Iloilo\",\n",
    "    \"Mandaue\",\n",
    "    \"Tacloban\",\n",
    "    \"Zamboanga\",\n",
    "    \"CagayanDeOro_Lumbia\",\n",
    "    \"CagayanDeOro_ElSalvador\",\n",
    "    \"Davao\",\n",
    "]"
   ]
  },
  {
   "cell_type": "code",
   "execution_count": null,
   "metadata": {},
   "outputs": [],
   "source": [
    "cities_df = pd.DataFrame(columns=[\"station\", \"var\", \"method\", \"corr\", \"rmse\"])\n",
    "for city in city_names:\n",
    "    city_df = pd.read_parquet(CORRECTED_PATH / f\"stats_{city.lower()}.parquet\")\n",
    "    city_df[\"station\"] = city\n",
    "    cities_df = pd.concat(\n",
    "        [cities_df, city_df[[\"station\", \"var\", \"method\", \"corr\", \"rmse\"]]]\n",
    "    )\n",
    "cities_df = cities_df.reset_index(drop=True)\n",
    "cities_df.to_parquet(CORRECTED_PATH / \"stats_all_cities.parquet\")\n",
    "cities_df.sort_values(\"corr\")"
   ]
  },
  {
   "cell_type": "code",
   "execution_count": null,
   "metadata": {},
   "outputs": [],
   "source": []
  }
 ],
 "metadata": {
  "kernelspec": {
   "display_name": "climate-downscaling",
   "language": "python",
   "name": "python3"
  },
  "language_info": {
   "codemirror_mode": {
    "name": "ipython",
    "version": 3
   },
   "file_extension": ".py",
   "mimetype": "text/x-python",
   "name": "python",
   "nbconvert_exporter": "python",
   "pygments_lexer": "ipython3",
   "version": "3.10.14"
  }
 },
 "nbformat": 4,
 "nbformat_minor": 2
}
