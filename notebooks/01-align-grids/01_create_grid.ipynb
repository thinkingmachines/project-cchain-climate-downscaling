{
 "cells": [
  {
   "cell_type": "code",
   "execution_count": 14,
   "metadata": {},
   "outputs": [],
   "source": [
    "import pandas as pd\n",
    "from shapely.geometry import Polygon\n",
    "import geopandas as gpd\n",
    "from geowrangler import grids\n",
    "from pathlib import Path\n"
   ]
  },
  {
   "cell_type": "markdown",
   "metadata": {},
   "source": [
    "# Create grids\n",
    "This notebook generates grids for each of the downscaling domains at the specified Bing tile zoom level"
   ]
  },
  {
   "cell_type": "markdown",
   "metadata": {},
   "source": [
    "### Input parameters"
   ]
  },
  {
   "cell_type": "code",
   "execution_count": 3,
   "metadata": {},
   "outputs": [],
   "source": [
    "INPUT_PATH = Path(\"../../data/01-raw/domains\")\n",
    "DEST_PATH = Path(\"../../data/01-raw/grids\")\n",
    "ZOOM_LEVEL = 15"
   ]
  },
  {
   "cell_type": "markdown",
   "metadata": {},
   "source": [
    "### Estimate tile size\n",
    "A reasonable grid for statistical/ML-based downscaling would be around 2-5km size."
   ]
  },
  {
   "cell_type": "code",
   "execution_count": 4,
   "metadata": {},
   "outputs": [],
   "source": [
    "CIRCUMFERENCE_EARTH_KM = 40_075\n",
    "\n",
    "def get_bing_tile_length_m(zoom_level: int) -> float:\n",
    "    assert isinstance(zoom_level, int) and zoom_level > 0\n",
    "\n",
    "    num_tiles = 2**zoom_level\n",
    "    tile_length_km = CIRCUMFERENCE_EARTH_KM / num_tiles\n",
    "    tile_length_m = tile_length_km * 1000\n",
    "    return tile_length_m"
   ]
  },
  {
   "cell_type": "code",
   "execution_count": 5,
   "metadata": {},
   "outputs": [
    {
     "data": {
      "text/plain": [
       "2445.98388671875"
      ]
     },
     "execution_count": 5,
     "metadata": {},
     "output_type": "execute_result"
    }
   ],
   "source": [
    "get_bing_tile_length_m(14)"
   ]
  },
  {
   "cell_type": "markdown",
   "metadata": {},
   "source": [
    "## Generate vector grids"
   ]
  },
  {
   "cell_type": "markdown",
   "metadata": {},
   "source": [
    "### Read bounds"
   ]
  },
  {
   "cell_type": "code",
   "execution_count": 6,
   "metadata": {},
   "outputs": [
    {
     "data": {
      "text/html": [
       "<div>\n",
       "<style scoped>\n",
       "    .dataframe tbody tr th:only-of-type {\n",
       "        vertical-align: middle;\n",
       "    }\n",
       "\n",
       "    .dataframe tbody tr th {\n",
       "        vertical-align: top;\n",
       "    }\n",
       "\n",
       "    .dataframe thead th {\n",
       "        text-align: right;\n",
       "    }\n",
       "</style>\n",
       "<table border=\"1\" class=\"dataframe\">\n",
       "  <thead>\n",
       "    <tr style=\"text-align: right;\">\n",
       "      <th></th>\n",
       "      <th>city</th>\n",
       "      <th>geometry</th>\n",
       "    </tr>\n",
       "  </thead>\n",
       "  <tbody>\n",
       "    <tr>\n",
       "      <th>0</th>\n",
       "      <td>Dagupan</td>\n",
       "      <td>POLYGON ((120.00931 15.90723, 120.52218 15.907...</td>\n",
       "    </tr>\n",
       "    <tr>\n",
       "      <th>1</th>\n",
       "      <td>Palayan</td>\n",
       "      <td>POLYGON ((120.88251 15.29488, 121.33348 15.294...</td>\n",
       "    </tr>\n",
       "    <tr>\n",
       "      <th>2</th>\n",
       "      <td>MetroManila</td>\n",
       "      <td>POLYGON ((120.86704 14.29347, 121.20453 14.293...</td>\n",
       "    </tr>\n",
       "    <tr>\n",
       "      <th>3</th>\n",
       "      <td>Legazpi</td>\n",
       "      <td>POLYGON ((123.65317 12.95603, 123.88749 12.956...</td>\n",
       "    </tr>\n",
       "    <tr>\n",
       "      <th>4</th>\n",
       "      <td>Iloilo</td>\n",
       "      <td>POLYGON ((122.41374 10.59140, 122.69007 10.591...</td>\n",
       "    </tr>\n",
       "    <tr>\n",
       "      <th>5</th>\n",
       "      <td>Mandaue</td>\n",
       "      <td>POLYGON ((123.84991 10.22738, 124.06435 10.227...</td>\n",
       "    </tr>\n",
       "    <tr>\n",
       "      <th>6</th>\n",
       "      <td>Tacloban</td>\n",
       "      <td>POLYGON ((124.86370 11.11900, 125.11697 11.119...</td>\n",
       "    </tr>\n",
       "    <tr>\n",
       "      <th>7</th>\n",
       "      <td>Zamboanga</td>\n",
       "      <td>POLYGON ((121.85371 6.81269, 122.48448 6.81269...</td>\n",
       "    </tr>\n",
       "    <tr>\n",
       "      <th>8</th>\n",
       "      <td>CagayanDeOro</td>\n",
       "      <td>POLYGON ((124.34436 8.09633, 124.95891 8.09633...</td>\n",
       "    </tr>\n",
       "    <tr>\n",
       "      <th>9</th>\n",
       "      <td>Davao</td>\n",
       "      <td>POLYGON ((125.05176 6.82890, 125.83580 6.82890...</td>\n",
       "    </tr>\n",
       "  </tbody>\n",
       "</table>\n",
       "</div>"
      ],
      "text/plain": [
       "           city                                           geometry\n",
       "0       Dagupan  POLYGON ((120.00931 15.90723, 120.52218 15.907...\n",
       "1       Palayan  POLYGON ((120.88251 15.29488, 121.33348 15.294...\n",
       "2   MetroManila  POLYGON ((120.86704 14.29347, 121.20453 14.293...\n",
       "3       Legazpi  POLYGON ((123.65317 12.95603, 123.88749 12.956...\n",
       "4        Iloilo  POLYGON ((122.41374 10.59140, 122.69007 10.591...\n",
       "5       Mandaue  POLYGON ((123.84991 10.22738, 124.06435 10.227...\n",
       "6      Tacloban  POLYGON ((124.86370 11.11900, 125.11697 11.119...\n",
       "7     Zamboanga  POLYGON ((121.85371 6.81269, 122.48448 6.81269...\n",
       "8  CagayanDeOro  POLYGON ((124.34436 8.09633, 124.95891 8.09633...\n",
       "9         Davao  POLYGON ((125.05176 6.82890, 125.83580 6.82890..."
      ]
     },
     "execution_count": 6,
     "metadata": {},
     "output_type": "execute_result"
    }
   ],
   "source": [
    "adm_gdf = gpd.read_file(INPUT_PATH / 'downscaling_domains_fixed.geojson')\n",
    "adm_gdf "
   ]
  },
  {
   "cell_type": "code",
   "execution_count": 7,
   "metadata": {},
   "outputs": [
    {
     "data": {
      "text/html": [
       "<div>\n",
       "<style scoped>\n",
       "    .dataframe tbody tr th:only-of-type {\n",
       "        vertical-align: middle;\n",
       "    }\n",
       "\n",
       "    .dataframe tbody tr th {\n",
       "        vertical-align: top;\n",
       "    }\n",
       "\n",
       "    .dataframe thead th {\n",
       "        text-align: right;\n",
       "    }\n",
       "</style>\n",
       "<table border=\"1\" class=\"dataframe\">\n",
       "  <thead>\n",
       "    <tr style=\"text-align: right;\">\n",
       "      <th></th>\n",
       "      <th>quadkey</th>\n",
       "      <th>geometry</th>\n",
       "    </tr>\n",
       "  </thead>\n",
       "  <tbody>\n",
       "    <tr>\n",
       "      <th>0</th>\n",
       "      <td>132321303012033</td>\n",
       "      <td>POLYGON ((121.84937 7.58033, 121.84937 7.59122...</td>\n",
       "    </tr>\n",
       "    <tr>\n",
       "      <th>1</th>\n",
       "      <td>132321303012122</td>\n",
       "      <td>POLYGON ((121.86035 7.58033, 121.86035 7.59122...</td>\n",
       "    </tr>\n",
       "    <tr>\n",
       "      <th>2</th>\n",
       "      <td>132321303012123</td>\n",
       "      <td>POLYGON ((121.87134 7.58033, 121.87134 7.59122...</td>\n",
       "    </tr>\n",
       "    <tr>\n",
       "      <th>3</th>\n",
       "      <td>132321303012132</td>\n",
       "      <td>POLYGON ((121.88232 7.58033, 121.88232 7.59122...</td>\n",
       "    </tr>\n",
       "    <tr>\n",
       "      <th>4</th>\n",
       "      <td>132321303012133</td>\n",
       "      <td>POLYGON ((121.89331 7.58033, 121.89331 7.59122...</td>\n",
       "    </tr>\n",
       "    <tr>\n",
       "      <th>...</th>\n",
       "      <td>...</td>\n",
       "      <td>...</td>\n",
       "    </tr>\n",
       "    <tr>\n",
       "      <th>21900</th>\n",
       "      <td>132303013010312</td>\n",
       "      <td>POLYGON ((120.47607 15.89794, 120.47607 15.908...</td>\n",
       "    </tr>\n",
       "    <tr>\n",
       "      <th>21901</th>\n",
       "      <td>132303013010313</td>\n",
       "      <td>POLYGON ((120.48706 15.89794, 120.48706 15.908...</td>\n",
       "    </tr>\n",
       "    <tr>\n",
       "      <th>21902</th>\n",
       "      <td>132303013011202</td>\n",
       "      <td>POLYGON ((120.49805 15.89794, 120.49805 15.908...</td>\n",
       "    </tr>\n",
       "    <tr>\n",
       "      <th>21903</th>\n",
       "      <td>132303013011203</td>\n",
       "      <td>POLYGON ((120.50903 15.89794, 120.50903 15.908...</td>\n",
       "    </tr>\n",
       "    <tr>\n",
       "      <th>21904</th>\n",
       "      <td>132303013011212</td>\n",
       "      <td>POLYGON ((120.52002 15.89794, 120.52002 15.908...</td>\n",
       "    </tr>\n",
       "  </tbody>\n",
       "</table>\n",
       "<p>21905 rows × 2 columns</p>\n",
       "</div>"
      ],
      "text/plain": [
       "               quadkey                                           geometry\n",
       "0      132321303012033  POLYGON ((121.84937 7.58033, 121.84937 7.59122...\n",
       "1      132321303012122  POLYGON ((121.86035 7.58033, 121.86035 7.59122...\n",
       "2      132321303012123  POLYGON ((121.87134 7.58033, 121.87134 7.59122...\n",
       "3      132321303012132  POLYGON ((121.88232 7.58033, 121.88232 7.59122...\n",
       "4      132321303012133  POLYGON ((121.89331 7.58033, 121.89331 7.59122...\n",
       "...                ...                                                ...\n",
       "21900  132303013010312  POLYGON ((120.47607 15.89794, 120.47607 15.908...\n",
       "21901  132303013010313  POLYGON ((120.48706 15.89794, 120.48706 15.908...\n",
       "21902  132303013011202  POLYGON ((120.49805 15.89794, 120.49805 15.908...\n",
       "21903  132303013011203  POLYGON ((120.50903 15.89794, 120.50903 15.908...\n",
       "21904  132303013011212  POLYGON ((120.52002 15.89794, 120.52002 15.908...\n",
       "\n",
       "[21905 rows x 2 columns]"
      ]
     },
     "execution_count": 7,
     "metadata": {},
     "output_type": "execute_result"
    }
   ],
   "source": [
    "# set grid parameters\n",
    "grid_generator = grids.BingTileGridGenerator(ZOOM_LEVEL, add_xyz_cols=True)\n",
    "\n",
    "# create grid\n",
    "grid_gdf = grid_generator.generate_grid_join(gdf=adm_gdf, filter=False)\n",
    "grid_gdf"
   ]
  },
  {
   "cell_type": "markdown",
   "metadata": {},
   "source": [
    "### Overlay with bounds"
   ]
  },
  {
   "cell_type": "code",
   "execution_count": 73,
   "metadata": {},
   "outputs": [
    {
     "data": {
      "text/html": [
       "<div>\n",
       "<style scoped>\n",
       "    .dataframe tbody tr th:only-of-type {\n",
       "        vertical-align: middle;\n",
       "    }\n",
       "\n",
       "    .dataframe tbody tr th {\n",
       "        vertical-align: top;\n",
       "    }\n",
       "\n",
       "    .dataframe thead th {\n",
       "        text-align: right;\n",
       "    }\n",
       "</style>\n",
       "<table border=\"1\" class=\"dataframe\">\n",
       "  <thead>\n",
       "    <tr style=\"text-align: right;\">\n",
       "      <th></th>\n",
       "      <th>quadkey</th>\n",
       "      <th>city</th>\n",
       "      <th>geometry</th>\n",
       "    </tr>\n",
       "  </thead>\n",
       "  <tbody>\n",
       "    <tr>\n",
       "      <th>0</th>\n",
       "      <td>132321303012033</td>\n",
       "      <td>Zamboanga</td>\n",
       "      <td>POLYGON ((121.86035 7.58033, 121.85371 7.58033...</td>\n",
       "    </tr>\n",
       "    <tr>\n",
       "      <th>1</th>\n",
       "      <td>132321303012122</td>\n",
       "      <td>Zamboanga</td>\n",
       "      <td>POLYGON ((121.86035 7.59083, 121.87134 7.59083...</td>\n",
       "    </tr>\n",
       "    <tr>\n",
       "      <th>2</th>\n",
       "      <td>132321303012123</td>\n",
       "      <td>Zamboanga</td>\n",
       "      <td>POLYGON ((121.87134 7.59083, 121.88232 7.59083...</td>\n",
       "    </tr>\n",
       "    <tr>\n",
       "      <th>3</th>\n",
       "      <td>132321303012132</td>\n",
       "      <td>Zamboanga</td>\n",
       "      <td>POLYGON ((121.88232 7.59083, 121.89331 7.59083...</td>\n",
       "    </tr>\n",
       "    <tr>\n",
       "      <th>4</th>\n",
       "      <td>132321303012133</td>\n",
       "      <td>Zamboanga</td>\n",
       "      <td>POLYGON ((121.89331 7.59083, 121.90430 7.59083...</td>\n",
       "    </tr>\n",
       "    <tr>\n",
       "      <th>...</th>\n",
       "      <td>...</td>\n",
       "      <td>...</td>\n",
       "      <td>...</td>\n",
       "    </tr>\n",
       "    <tr>\n",
       "      <th>21900</th>\n",
       "      <td>132303013010312</td>\n",
       "      <td>Dagupan</td>\n",
       "      <td>POLYGON ((120.47607 15.90851, 120.48706 15.908...</td>\n",
       "    </tr>\n",
       "    <tr>\n",
       "      <th>21901</th>\n",
       "      <td>132303013010313</td>\n",
       "      <td>Dagupan</td>\n",
       "      <td>POLYGON ((120.48706 15.90851, 120.49805 15.908...</td>\n",
       "    </tr>\n",
       "    <tr>\n",
       "      <th>21902</th>\n",
       "      <td>132303013011202</td>\n",
       "      <td>Dagupan</td>\n",
       "      <td>POLYGON ((120.49805 15.90851, 120.50903 15.908...</td>\n",
       "    </tr>\n",
       "    <tr>\n",
       "      <th>21903</th>\n",
       "      <td>132303013011203</td>\n",
       "      <td>Dagupan</td>\n",
       "      <td>POLYGON ((120.50903 15.90851, 120.52002 15.908...</td>\n",
       "    </tr>\n",
       "    <tr>\n",
       "      <th>21904</th>\n",
       "      <td>132303013011212</td>\n",
       "      <td>Dagupan</td>\n",
       "      <td>POLYGON ((120.52002 15.90851, 120.52218 15.908...</td>\n",
       "    </tr>\n",
       "  </tbody>\n",
       "</table>\n",
       "<p>21905 rows × 3 columns</p>\n",
       "</div>"
      ],
      "text/plain": [
       "               quadkey       city  \\\n",
       "0      132321303012033  Zamboanga   \n",
       "1      132321303012122  Zamboanga   \n",
       "2      132321303012123  Zamboanga   \n",
       "3      132321303012132  Zamboanga   \n",
       "4      132321303012133  Zamboanga   \n",
       "...                ...        ...   \n",
       "21900  132303013010312    Dagupan   \n",
       "21901  132303013010313    Dagupan   \n",
       "21902  132303013011202    Dagupan   \n",
       "21903  132303013011203    Dagupan   \n",
       "21904  132303013011212    Dagupan   \n",
       "\n",
       "                                                geometry  \n",
       "0      POLYGON ((121.86035 7.58033, 121.85371 7.58033...  \n",
       "1      POLYGON ((121.86035 7.59083, 121.87134 7.59083...  \n",
       "2      POLYGON ((121.87134 7.59083, 121.88232 7.59083...  \n",
       "3      POLYGON ((121.88232 7.59083, 121.89331 7.59083...  \n",
       "4      POLYGON ((121.89331 7.59083, 121.90430 7.59083...  \n",
       "...                                                  ...  \n",
       "21900  POLYGON ((120.47607 15.90851, 120.48706 15.908...  \n",
       "21901  POLYGON ((120.48706 15.90851, 120.49805 15.908...  \n",
       "21902  POLYGON ((120.49805 15.90851, 120.50903 15.908...  \n",
       "21903  POLYGON ((120.50903 15.90851, 120.52002 15.908...  \n",
       "21904  POLYGON ((120.52002 15.90851, 120.52218 15.908...  \n",
       "\n",
       "[21905 rows x 3 columns]"
      ]
     },
     "execution_count": 73,
     "metadata": {},
     "output_type": "execute_result"
    }
   ],
   "source": [
    "overlay_gdf = gpd.overlay(grid_gdf, adm_gdf, how='intersection')\n",
    "overlay_gdf"
   ]
  },
  {
   "cell_type": "markdown",
   "metadata": {},
   "source": [
    "### Save to geojson"
   ]
  },
  {
   "cell_type": "code",
   "execution_count": 9,
   "metadata": {},
   "outputs": [
    {
     "name": "stderr",
     "output_type": "stream",
     "text": [
      "/home/jace/miniconda3/envs/climate-downscaling/lib/python3.10/site-packages/geopandas/io/file.py:362: FutureWarning: pandas.Int64Index is deprecated and will be removed from pandas in a future version. Use pandas.Index with the appropriate dtype instead.\n",
      "  pd.Int64Index,\n"
     ]
    }
   ],
   "source": [
    "overlay_gdf.to_file(DEST_PATH / f'downscaling_grid_bing{ZOOM_LEVEL}.geojson', driver='GeoJSON')"
   ]
  },
  {
   "cell_type": "markdown",
   "metadata": {},
   "source": [
    "## Generate netcdf grid"
   ]
  },
  {
   "cell_type": "code",
   "execution_count": null,
   "metadata": {},
   "outputs": [],
   "source": [
    "RESOLUTION = 0.02"
   ]
  },
  {
   "cell_type": "code",
   "execution_count": null,
   "metadata": {},
   "outputs": [],
   "source": [
    "ds = xr.open_dataset(DEST_PATH / \"data/01-raw/chirts/CHIRTS_Tmax_PH_2007.nc\")"
   ]
  },
  {
   "cell_type": "code",
   "execution_count": 29,
   "metadata": {},
   "outputs": [
    {
     "ename": "SyntaxError",
     "evalue": "invalid syntax (248739560.py, line 2)",
     "output_type": "error",
     "traceback": [
      "\u001b[0;36m  Cell \u001b[0;32mIn [29], line 2\u001b[0;36m\u001b[0m\n\u001b[0;31m    for city in\u001b[0m\n\u001b[0m               ^\u001b[0m\n\u001b[0;31mSyntaxError\u001b[0m\u001b[0;31m:\u001b[0m invalid syntax\n"
     ]
    }
   ],
   "source": [
    "cities = adm_gdf['city'].values\n",
    "for city in"
   ]
  },
  {
   "cell_type": "code",
   "execution_count": 97,
   "metadata": {},
   "outputs": [
    {
     "data": {
      "text/plain": [
       "(120.8670354518582, 14.293466902449362)"
      ]
     },
     "execution_count": 97,
     "metadata": {},
     "output_type": "execute_result"
    }
   ],
   "source": [
    "city = cities[2]\n",
    "city_grid_gdf = overlay_gdf[overlay_gdf['city']==city].copy()\n",
    "unique_lons = np.unique(np.concatenate([np.array(poly.exterior.coords.xy[0]) for poly in city_grid_gdf.geometry]))\n",
    "unique_lats = np.unique(np.concatenate([np.array(poly.exterior.coords.xy[1]) for poly in city_grid_gdf.geometry]))\n",
    "min_lon,max_lon = min(unique_lons),max(unique_lons)\n",
    "min_lat,max_lat = min(unique_lats),max(unique_lats)\n",
    "\n",
    "min_lon, min_lat"
   ]
  },
  {
   "cell_type": "code",
   "execution_count": null,
   "metadata": {},
   "outputs": [],
   "source": []
  },
  {
   "cell_type": "code",
   "execution_count": null,
   "metadata": {},
   "outputs": [],
   "source": []
  },
  {
   "cell_type": "code",
   "execution_count": null,
   "metadata": {},
   "outputs": [],
   "source": [
    "0.010986,0.01063"
   ]
  },
  {
   "cell_type": "code",
   "execution_count": 79,
   "metadata": {},
   "outputs": [
    {
     "data": {
      "text/html": [
       "<div>\n",
       "<style scoped>\n",
       "    .dataframe tbody tr th:only-of-type {\n",
       "        vertical-align: middle;\n",
       "    }\n",
       "\n",
       "    .dataframe tbody tr th {\n",
       "        vertical-align: top;\n",
       "    }\n",
       "\n",
       "    .dataframe thead th {\n",
       "        text-align: right;\n",
       "    }\n",
       "</style>\n",
       "<table border=\"1\" class=\"dataframe\">\n",
       "  <thead>\n",
       "    <tr style=\"text-align: right;\">\n",
       "      <th></th>\n",
       "      <th>quadkey</th>\n",
       "      <th>city</th>\n",
       "      <th>geometry</th>\n",
       "    </tr>\n",
       "  </thead>\n",
       "  <tbody>\n",
       "    <tr>\n",
       "      <th>13818</th>\n",
       "      <td>132330002001201</td>\n",
       "      <td>Mandaue</td>\n",
       "      <td>POLYGON ((123.85986 10.43379, 123.84991 10.433...</td>\n",
       "    </tr>\n",
       "    <tr>\n",
       "      <th>13819</th>\n",
       "      <td>132330002001210</td>\n",
       "      <td>Mandaue</td>\n",
       "      <td>POLYGON ((123.85986 10.43886, 123.87085 10.438...</td>\n",
       "    </tr>\n",
       "    <tr>\n",
       "      <th>13820</th>\n",
       "      <td>132330002001211</td>\n",
       "      <td>Mandaue</td>\n",
       "      <td>POLYGON ((123.87085 10.43886, 123.88184 10.438...</td>\n",
       "    </tr>\n",
       "    <tr>\n",
       "      <th>13821</th>\n",
       "      <td>132330002001300</td>\n",
       "      <td>Mandaue</td>\n",
       "      <td>POLYGON ((123.88184 10.43886, 123.89282 10.438...</td>\n",
       "    </tr>\n",
       "    <tr>\n",
       "      <th>13822</th>\n",
       "      <td>132330002001301</td>\n",
       "      <td>Mandaue</td>\n",
       "      <td>POLYGON ((123.89282 10.43886, 123.90381 10.438...</td>\n",
       "    </tr>\n",
       "    <tr>\n",
       "      <th>...</th>\n",
       "      <td>...</td>\n",
       "      <td>...</td>\n",
       "      <td>...</td>\n",
       "    </tr>\n",
       "    <tr>\n",
       "      <th>14233</th>\n",
       "      <td>132330002033000</td>\n",
       "      <td>Mandaue</td>\n",
       "      <td>POLYGON ((124.01367 10.22844, 124.02466 10.228...</td>\n",
       "    </tr>\n",
       "    <tr>\n",
       "      <th>14234</th>\n",
       "      <td>132330002033001</td>\n",
       "      <td>Mandaue</td>\n",
       "      <td>POLYGON ((124.02466 10.22844, 124.03564 10.228...</td>\n",
       "    </tr>\n",
       "    <tr>\n",
       "      <th>14235</th>\n",
       "      <td>132330002033010</td>\n",
       "      <td>Mandaue</td>\n",
       "      <td>POLYGON ((124.03564 10.22844, 124.04663 10.228...</td>\n",
       "    </tr>\n",
       "    <tr>\n",
       "      <th>14236</th>\n",
       "      <td>132330002033011</td>\n",
       "      <td>Mandaue</td>\n",
       "      <td>POLYGON ((124.04663 10.22844, 124.05762 10.228...</td>\n",
       "    </tr>\n",
       "    <tr>\n",
       "      <th>14237</th>\n",
       "      <td>132330002033100</td>\n",
       "      <td>Mandaue</td>\n",
       "      <td>POLYGON ((124.05762 10.22844, 124.06435 10.228...</td>\n",
       "    </tr>\n",
       "  </tbody>\n",
       "</table>\n",
       "<p>420 rows × 3 columns</p>\n",
       "</div>"
      ],
      "text/plain": [
       "               quadkey     city  \\\n",
       "13818  132330002001201  Mandaue   \n",
       "13819  132330002001210  Mandaue   \n",
       "13820  132330002001211  Mandaue   \n",
       "13821  132330002001300  Mandaue   \n",
       "13822  132330002001301  Mandaue   \n",
       "...                ...      ...   \n",
       "14233  132330002033000  Mandaue   \n",
       "14234  132330002033001  Mandaue   \n",
       "14235  132330002033010  Mandaue   \n",
       "14236  132330002033011  Mandaue   \n",
       "14237  132330002033100  Mandaue   \n",
       "\n",
       "                                                geometry  \n",
       "13818  POLYGON ((123.85986 10.43379, 123.84991 10.433...  \n",
       "13819  POLYGON ((123.85986 10.43886, 123.87085 10.438...  \n",
       "13820  POLYGON ((123.87085 10.43886, 123.88184 10.438...  \n",
       "13821  POLYGON ((123.88184 10.43886, 123.89282 10.438...  \n",
       "13822  POLYGON ((123.89282 10.43886, 123.90381 10.438...  \n",
       "...                                                  ...  \n",
       "14233  POLYGON ((124.01367 10.22844, 124.02466 10.228...  \n",
       "14234  POLYGON ((124.02466 10.22844, 124.03564 10.228...  \n",
       "14235  POLYGON ((124.03564 10.22844, 124.04663 10.228...  \n",
       "14236  POLYGON ((124.04663 10.22844, 124.05762 10.228...  \n",
       "14237  POLYGON ((124.05762 10.22844, 124.06435 10.228...  \n",
       "\n",
       "[420 rows x 3 columns]"
      ]
     },
     "execution_count": 79,
     "metadata": {},
     "output_type": "execute_result"
    }
   ],
   "source": [
    "city_grid_gdf = overlay_gdf[overlay_gdf['city']==\"Mandaue\"].copy()\n",
    "city_grid_gdf"
   ]
  }
 ],
 "metadata": {
  "kernelspec": {
   "display_name": "climate-downscaling",
   "language": "python",
   "name": "python3"
  },
  "language_info": {
   "codemirror_mode": {
    "name": "ipython",
    "version": 3
   },
   "file_extension": ".py",
   "mimetype": "text/x-python",
   "name": "python",
   "nbconvert_exporter": "python",
   "pygments_lexer": "ipython3",
   "version": "3.10.13"
  }
 },
 "nbformat": 4,
 "nbformat_minor": 2
}
