{
 "cells": [
  {
   "cell_type": "code",
   "execution_count": null,
   "metadata": {},
   "outputs": [],
   "source": [
    "%load_ext autoreload\n",
    "%autoreload 2\n",
    "\n",
    "# Standard imports\n",
    "from pathlib import Path\n",
    "import sys\n",
    "\n",
    "# Library imports\n",
    "import matplotlib.pyplot as plt\n",
    "import numpy as np\n",
    "import pandas as pd\n",
    "import xarray as xr\n",
    "\n",
    "# Util imports\n",
    "sys.path.append(\"../../\")\n",
    "import src.climate_downscaling_utils as cd"
   ]
  },
  {
   "cell_type": "markdown",
   "metadata": {},
   "source": [
    "# Overlay station data to grids"
   ]
  },
  {
   "cell_type": "markdown",
   "metadata": {},
   "source": [
    "### Input parameters"
   ]
  },
  {
   "cell_type": "code",
   "execution_count": null,
   "metadata": {},
   "outputs": [],
   "source": [
    "RAW_PATH = Path(\"../../data/01-raw\")\n",
    "PROCESSED_PATH = Path(\"../../data/02-processed\")\n",
    "RESULTS_PATH = Path(\"../../data/03-results\")\n",
    "RESOLUTION = 0.02  # 2 km\n",
    "CROP_ALLOWANCE_DEG = 13 * RESOLUTION\n",
    "CITY_NAME = \"Dagupan\"\n",
    "\n",
    "DOMAINS_GEOJSON = RAW_PATH / \"domains/downscaling_domains_fixed.geojson\"\n",
    "STATION_LOCATION_CSV = RAW_PATH / \"station_data/PAGASA_station_locations.csv\"\n",
    "STATION_DATA_CSV = PROCESSED_PATH / \"station_data.csv\"\n",
    "VARS_NC = (\n",
    "    PROCESSED_PATH\n",
    "    / f\"input/chirts_chirps_regridded_interpolated_{CITY_NAME.lower()}.nc\"\n",
    ")\n",
    "VARS = [\"precip\", \"tmax\", \"tmin\"]"
   ]
  },
  {
   "cell_type": "markdown",
   "metadata": {},
   "source": [
    "## Station data"
   ]
  },
  {
   "cell_type": "markdown",
   "metadata": {},
   "source": [
    "### Load station location"
   ]
  },
  {
   "cell_type": "code",
   "execution_count": null,
   "metadata": {},
   "outputs": [],
   "source": [
    "station_locations_df = pd.read_csv(STATION_LOCATION_CSV)\n",
    "station_locations_df.head()\n",
    "station_lats = station_locations_df.loc[\n",
    "    station_locations_df[\"station_name\"] == CITY_NAME, \"lat\"\n",
    "]\n",
    "station_lons = station_locations_df.loc[\n",
    "    station_locations_df[\"station_name\"] == CITY_NAME, \"lon\"\n",
    "]\n",
    "station_lat = station_lats.item()\n",
    "station_lon = station_lons.item()"
   ]
  },
  {
   "cell_type": "markdown",
   "metadata": {},
   "source": [
    "### Load station data"
   ]
  },
  {
   "cell_type": "code",
   "execution_count": null,
   "metadata": {},
   "outputs": [],
   "source": [
    "stations_df = pd.read_csv(STATION_DATA_CSV)\n",
    "station_df = (\n",
    "    stations_df[stations_df[\"station\"] == CITY_NAME]\n",
    "    .drop_duplicates()\n",
    "    .replace(-999, np.nan)\n",
    "    .rename(columns={\"rainfall\": \"precip\"})\n",
    "    .sort_values(\"date\")\n",
    "    .reset_index(drop=True)\n",
    ")\n",
    "station_df.head()"
   ]
  },
  {
   "cell_type": "markdown",
   "metadata": {},
   "source": [
    "### Arrange as a Dataset"
   ]
  },
  {
   "cell_type": "code",
   "execution_count": null,
   "metadata": {},
   "outputs": [],
   "source": [
    "station_ds = xr.Dataset(\n",
    "    data_vars={\n",
    "        var: (\n",
    "            [\"time\", \"lat\", \"lon\"],\n",
    "            station_df[var].to_numpy().reshape((len(station_df[\"date\"]), 1, 1)),\n",
    "        )\n",
    "        for var in VARS\n",
    "    },\n",
    "    coords=dict(\n",
    "        time=(\"time\", pd.DatetimeIndex(station_df[\"date\"])),\n",
    "        lon=(\"lon\", station_lons),\n",
    "        lat=(\"lat\", station_lats),\n",
    "    ),\n",
    "    attrs=dict(\n",
    "        description=\"Station data\",\n",
    "    ),\n",
    ")\n",
    "station_tmin_da = station_ds[\"tmin\"]\n",
    "station_tmax_da = station_ds[\"tmax\"]\n",
    "station_precip_da = station_ds[\"precip\"]\n",
    "station_ds"
   ]
  },
  {
   "cell_type": "markdown",
   "metadata": {},
   "source": [
    "## Gridded data"
   ]
  },
  {
   "cell_type": "markdown",
   "metadata": {},
   "source": [
    "### Load gridded data"
   ]
  },
  {
   "cell_type": "code",
   "execution_count": null,
   "metadata": {},
   "outputs": [],
   "source": [
    "gridded_ds = xr.open_dataset(VARS_NC, engine=\"scipy\").sel(band=1)\n",
    "gridded_ds"
   ]
  },
  {
   "cell_type": "code",
   "execution_count": null,
   "metadata": {},
   "outputs": [],
   "source": [
    "gridded_subset_ds = gridded_ds.where(\n",
    "    (gridded_ds.lat >= (station_lat - 0.125))\n",
    "    & (gridded_ds.lat <= (station_lat + 0.125))\n",
    "    & (gridded_ds.lon >= (station_lon - 0.125))\n",
    "    & (gridded_ds.lon <= (station_lon + 0.125)),\n",
    "    drop=True,\n",
    ")\n",
    "gridded_subset_ds"
   ]
  },
  {
   "cell_type": "markdown",
   "metadata": {},
   "source": [
    "## Apply correction\n",
    "TODO: Split bias correction to a separate notebook"
   ]
  },
  {
   "cell_type": "code",
   "execution_count": null,
   "metadata": {},
   "outputs": [],
   "source": [
    "bias_params = [\n",
    "    dict(\n",
    "        name=\"Liu et al. (2019)\",\n",
    "        func=cd.correct_gridded_liu,\n",
    "    ),\n",
    "    dict(\n",
    "        name=\"Z-Score\",\n",
    "        func=cd.correct_gridded_zscore,\n",
    "    ),\n",
    "]"
   ]
  },
  {
   "cell_type": "markdown",
   "metadata": {},
   "source": [
    "## Minimum temperature"
   ]
  },
  {
   "cell_type": "markdown",
   "metadata": {},
   "source": [
    "### Prepare data"
   ]
  },
  {
   "cell_type": "code",
   "execution_count": null,
   "metadata": {},
   "outputs": [],
   "source": [
    "gridded_tmin_da = gridded_ds[\"tmin\"].sel(time=\"2008-07-01\", method=\"nearest\")\n",
    "gridded_tmin_da.plot()\n",
    "plt.plot(station_lon, station_lat, \"o\")\n",
    "plt.show()\n",
    "\n",
    "gridded_subset_tmin_da = gridded_subset_ds[\"tmin\"].sel(\n",
    "    time=\"2008-07-01\", method=\"nearest\"\n",
    ")\n",
    "gridded_subset_tmin_da.plot()\n",
    "plt.plot(station_lon, station_lat, \"o\")\n",
    "plt.show()\n",
    "\n",
    "gridded_subset_tmin_da.plot.hist(bins=15)\n",
    "plt.show()"
   ]
  },
  {
   "cell_type": "markdown",
   "metadata": {},
   "source": [
    "### Apply bias correction"
   ]
  },
  {
   "cell_type": "code",
   "execution_count": null,
   "metadata": {},
   "outputs": [],
   "source": [
    "for bias_param in bias_params:\n",
    "    print(f\"Now doing {bias_param['name']} bias correction\")\n",
    "\n",
    "    corrected_tmin_da = bias_param[\"func\"](\n",
    "        gridded_subset_tmin_da,\n",
    "        station_da=station_tmin_da.sel(time=\"2008-07-01\"),\n",
    "        std_scale=0.1,\n",
    "    )\n",
    "    plot_min = min([corrected_tmin_da.min(), gridded_subset_tmin_da.min()]).values\n",
    "    plot_max = max([corrected_tmin_da.max(), gridded_subset_tmin_da.max()]).values\n",
    "\n",
    "    gridded_subset_tmin_da.plot(vmin=plot_min, vmax=plot_max)\n",
    "    plt.title(\"CHIRTS minimum temp\")\n",
    "    plt.show()\n",
    "\n",
    "    corrected_tmin_da.plot(vmin=plot_min, vmax=plot_max)\n",
    "    plt.title(f\"Corrected CHIRTS minimum temp\\n{bias_param['name']}\")\n",
    "    plt.show()\n",
    "\n",
    "    (corrected_tmin_da - gridded_subset_tmin_da).plot(cmap=\"RdBu\")\n",
    "    plt.title(\n",
    "        f\"Difference between corrected and uncorrected\\nCHIRTS minimum temp\\n{bias_param['name']}\"\n",
    "    )\n",
    "    plt.show()"
   ]
  },
  {
   "cell_type": "markdown",
   "metadata": {},
   "source": [
    "## Maximum temperature"
   ]
  },
  {
   "cell_type": "markdown",
   "metadata": {},
   "source": [
    "### Prepare data"
   ]
  },
  {
   "cell_type": "code",
   "execution_count": null,
   "metadata": {},
   "outputs": [],
   "source": [
    "gridded_tmax_da = gridded_ds[\"tmax\"].sel(time=\"2008-07-01\", method=\"nearest\")\n",
    "gridded_tmax_da.plot()\n",
    "plt.plot(station_lon, station_lat, \"o\")\n",
    "plt.show()\n",
    "\n",
    "gridded_subset_tmax_da = gridded_subset_ds[\"tmax\"].sel(\n",
    "    time=\"2008-07-01\", method=\"nearest\"\n",
    ")\n",
    "gridded_subset_tmax_da.plot()\n",
    "plt.plot(station_lon, station_lat, \"o\")\n",
    "plt.show()\n",
    "\n",
    "gridded_subset_tmax_da.plot.hist(bins=15)\n",
    "plt.show()"
   ]
  },
  {
   "cell_type": "markdown",
   "metadata": {},
   "source": [
    "### Apply bias correction"
   ]
  },
  {
   "cell_type": "code",
   "execution_count": null,
   "metadata": {},
   "outputs": [],
   "source": [
    "for bias_param in bias_params:\n",
    "    print(f\"Now doing {bias_param['name']} bias correction\")\n",
    "\n",
    "    corrected_tmax_da = bias_param[\"func\"](\n",
    "        gridded_subset_tmax_da,\n",
    "        station_da=station_tmax_da.sel(time=\"2008-07-01\"),\n",
    "        std_scale=0.1,\n",
    "    )\n",
    "    plot_min = min([corrected_tmax_da.min(), gridded_subset_tmax_da.min()]).values\n",
    "    plot_max = max([corrected_tmax_da.max(), gridded_subset_tmax_da.max()]).values\n",
    "\n",
    "    gridded_subset_tmax_da.plot(vmin=plot_min, vmax=plot_max)\n",
    "    plt.title(\"CHIRTS maximum temp\")\n",
    "    plt.show()\n",
    "\n",
    "    corrected_tmax_da.plot(vmin=plot_min, vmax=plot_max)\n",
    "    plt.title(f\"Corrected CHIRTS maximum temp\\n{bias_param['name']}\")\n",
    "    plt.show()\n",
    "\n",
    "    (corrected_tmax_da - gridded_subset_tmax_da).plot(cmap=\"RdBu\")\n",
    "    plt.title(\n",
    "        f\"Difference between corrected and uncorrected\\nCHIRTS maximum temp\\n{bias_param['name']}\"\n",
    "    )\n",
    "    plt.show()"
   ]
  },
  {
   "cell_type": "markdown",
   "metadata": {},
   "source": [
    "## Precipitation"
   ]
  },
  {
   "cell_type": "code",
   "execution_count": null,
   "metadata": {},
   "outputs": [],
   "source": [
    "gridded_precip_da = gridded_ds[\"precip\"].sel(time=\"2008-07-01\", method=\"nearest\")\n",
    "gridded_precip_da.plot()\n",
    "plt.plot(station_lon, station_lat, \"o\")\n",
    "plt.show()\n",
    "\n",
    "gridded_subset_precip_da = gridded_subset_ds[\"precip\"].sel(\n",
    "    time=\"2008-07-01\", method=\"nearest\"\n",
    ")\n",
    "gridded_subset_precip_da.plot()\n",
    "plt.plot(station_lon, station_lat, \"o\")\n",
    "plt.show()\n",
    "\n",
    "gridded_subset_precip_da.plot.hist(bins=15)\n",
    "plt.show()"
   ]
  },
  {
   "cell_type": "markdown",
   "metadata": {},
   "source": [
    "### Apply bias correction"
   ]
  },
  {
   "cell_type": "code",
   "execution_count": null,
   "metadata": {},
   "outputs": [],
   "source": [
    "for bias_param in bias_params:\n",
    "    print(f\"Now doing {bias_param['name']} bias correction\")\n",
    "\n",
    "    corrected_precip_da = bias_param[\"func\"](\n",
    "        gridded_subset_precip_da,\n",
    "        station_da=station_precip_da.sel(time=\"2008-07-01\"),\n",
    "        std_scale=0.1,\n",
    "    )\n",
    "    plot_min = min([corrected_precip_da.min(), gridded_subset_precip_da.min()]).values\n",
    "    plot_max = max([corrected_precip_da.max(), gridded_subset_precip_da.max()]).values\n",
    "\n",
    "    gridded_subset_precip_da.plot(vmin=plot_min, vmax=plot_max)\n",
    "    plt.title(\"CHIRPS precipitation\")\n",
    "    plt.show()\n",
    "\n",
    "    corrected_precip_da.plot(vmin=plot_min, vmax=plot_max)\n",
    "    plt.title(f\"Corrected CHIRPS precipitation\\n{bias_param['name']}\")\n",
    "    plt.show()\n",
    "\n",
    "    (corrected_precip_da - gridded_subset_precip_da).plot(cmap=\"RdBu\")\n",
    "    plt.title(\n",
    "        f\"Difference between corrected and uncorrected\\nCHIRPS precipitation\\n{bias_param['name']}\"\n",
    "    )\n",
    "    plt.show()"
   ]
  },
  {
   "cell_type": "code",
   "execution_count": null,
   "metadata": {},
   "outputs": [],
   "source": []
  }
 ],
 "metadata": {
  "kernelspec": {
   "display_name": "climate-downscaling",
   "language": "python",
   "name": "python3"
  },
  "language_info": {
   "codemirror_mode": {
    "name": "ipython",
    "version": 3
   },
   "file_extension": ".py",
   "mimetype": "text/x-python",
   "name": "python",
   "nbconvert_exporter": "python",
   "pygments_lexer": "ipython3",
   "version": "3.10.14"
  }
 },
 "nbformat": 4,
 "nbformat_minor": 2
}
