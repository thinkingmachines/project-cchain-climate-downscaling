{
 "cells": [
  {
   "cell_type": "code",
   "execution_count": null,
   "metadata": {},
   "outputs": [],
   "source": [
    "%load_ext autoreload\n",
    "%autoreload 2\n",
    "\n",
    "# Standard imports\n",
    "from pathlib import Path\n",
    "import sys\n",
    "\n",
    "# Library imports\n",
    "import xarray as xr\n",
    "\n",
    "# Util imports\n",
    "sys.path.append(\"../../\")"
   ]
  },
  {
   "cell_type": "markdown",
   "metadata": {},
   "source": [
    "# Combine gridded data from multiple stations with different time ranges"
   ]
  },
  {
   "cell_type": "code",
   "execution_count": null,
   "metadata": {},
   "outputs": [],
   "source": [
    "PROCESSED_PATH = Path(\"../../data/02-processed\")\n",
    "CORRECTED_PATH = PROCESSED_PATH / \"bias-correction-radial-optimized\""
   ]
  },
  {
   "cell_type": "code",
   "execution_count": null,
   "metadata": {},
   "outputs": [],
   "source": [
    "city_names = [\n",
    "    \"CagayanDeOro_Lumbia\",\n",
    "    \"CagayanDeOro_ElSalvador\",\n",
    "]\n",
    "\n",
    "ds = xr.concat(\n",
    "    [\n",
    "        xr.open_dataset(\n",
    "            CORRECTED_PATH / f\"corrected_gridded_{city_names[0].lower()}.nc\"\n",
    "        ),\n",
    "        xr.open_dataset(\n",
    "            CORRECTED_PATH / f\"corrected_gridded_{city_names[1].lower()}.nc\"\n",
    "        ),\n",
    "    ],\n",
    "    dim=\"time\",\n",
    ")\n",
    "ds.to_netcdf(\n",
    "    CORRECTED_PATH / f\"corrected_gridded_{city_names[0].split('_')[0].lower()}.nc\",\n",
    "    engine=\"scipy\",\n",
    ")\n",
    "ds"
   ]
  },
  {
   "cell_type": "code",
   "execution_count": null,
   "metadata": {},
   "outputs": [],
   "source": []
  }
 ],
 "metadata": {
  "kernelspec": {
   "display_name": "climate-downscaling",
   "language": "python",
   "name": "python3"
  },
  "language_info": {
   "codemirror_mode": {
    "name": "ipython",
    "version": 3
   },
   "file_extension": ".py",
   "mimetype": "text/x-python",
   "name": "python",
   "nbconvert_exporter": "python",
   "pygments_lexer": "ipython3",
   "version": "3.10.14"
  }
 },
 "nbformat": 4,
 "nbformat_minor": 2
}
