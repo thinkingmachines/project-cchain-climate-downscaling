{
 "cells": [
  {
   "cell_type": "markdown",
   "metadata": {},
   "source": [
    "# Perform bias correction on downscaled data\n",
    "\n",
    "Downscaling climate data from coarse global models (GCMs) improves spatial resolution but often introduces systematic errors, known as biases. These biases can result from:\n",
    "\n",
    "- **Model simplifications**: GCMs use approximations to represent complex physical processes, leading to discrepancies between model outputs and observed data.\n",
    "- **Local geography**: Coarse models may miss small-scale features (e.g., topography), affecting the accuracy of climate variables like temperature and rainfall.\n",
    "- **Interpolation assumptions**: Downscaling involves assumptions that may not capture local climate dynamics, causing additional inaccuracies.\n",
    "\n",
    "Bias correction adjusts systematic errors in downscaled climate data by aligning model outputs with ground data. This process improves the accuracy and reliability of climate projections, making them more suitable for local decision-making. "
   ]
  },
  {
   "cell_type": "code",
   "execution_count": 45,
   "metadata": {},
   "outputs": [],
   "source": [
    "import os, sys\n",
    "from pathlib import Path\n",
    "import time\n",
    "\n",
    "import numpy as np\n",
    "import pandas as pd\n",
    "import geopandas as gpd\n",
    "from shapely.geometry import Polygon\n",
    "import xarray as xr\n",
    "import xskillscore as xs\n",
    "from cmethods import adjust\n",
    "\n",
    "from functools import partial\n",
    "import matplotlib.pyplot as plt\n",
    "import cartopy.crs as ccrs\n",
    "import glob\n",
    "\n",
    "import sys\n",
    "import ast\n",
    "sys.path.append(\"../../\") \n",
    "from src.assess_model import *\n",
    "from src.downscaling_utils import *"
   ]
  },
  {
   "cell_type": "markdown",
   "metadata": {},
   "source": [
    "## Import libraries"
   ]
  },
  {
   "cell_type": "code",
   "execution_count": 46,
   "metadata": {},
   "outputs": [],
   "source": [
    "RAW_INPUT_PATH = Path(\"../../data/01-raw/\")\n",
    "INPUT_PATH = Path(\"../../data/02-processed/\")\n",
    "RESULTS_PATH = Path(\"../../data/03-results/\")\n",
    "YEARS = np.arange(2003,2023,1)\n",
    "VARIABLE = 'tmin'\n",
    "metrics_columns = ['rmse','mae','binary_accuracy']\n",
    "if VARIABLE == 'precip': \n",
    "    evaluation_years = [2008,2009,2010,2016,2017,2018]\n",
    "    VARIABLE_LR = 'tp'\n",
    "elif VARIABLE in ['tmin', 'tmax']: \n",
    "    evaluation_years = [2008,2009,2010,2016]\n",
    "    VARIABLE_LR = 't2m_min' if VARIABLE=='tmin' else 't2m_max'"
   ]
  },
  {
   "cell_type": "markdown",
   "metadata": {},
   "source": [
    "## Read bounds"
   ]
  },
  {
   "cell_type": "code",
   "execution_count": 47,
   "metadata": {},
   "outputs": [
    {
     "data": {
      "text/html": [
       "<div>\n",
       "<style scoped>\n",
       "    .dataframe tbody tr th:only-of-type {\n",
       "        vertical-align: middle;\n",
       "    }\n",
       "\n",
       "    .dataframe tbody tr th {\n",
       "        vertical-align: top;\n",
       "    }\n",
       "\n",
       "    .dataframe thead th {\n",
       "        text-align: right;\n",
       "    }\n",
       "</style>\n",
       "<table border=\"1\" class=\"dataframe\">\n",
       "  <thead>\n",
       "    <tr style=\"text-align: right;\">\n",
       "      <th></th>\n",
       "      <th>city</th>\n",
       "      <th>full_bounds</th>\n",
       "      <th>focused_bounds</th>\n",
       "    </tr>\n",
       "  </thead>\n",
       "  <tbody>\n",
       "    <tr>\n",
       "      <th>0</th>\n",
       "      <td>Dagupan</td>\n",
       "      <td>[120.00931049408791, 120.4821769636825, 15.907...</td>\n",
       "      <td>[120.210342, 120.450668, 15.928978, 16.138177]</td>\n",
       "    </tr>\n",
       "    <tr>\n",
       "      <th>1</th>\n",
       "      <td>Palayan</td>\n",
       "      <td>[120.8625098711998, 121.33347866342953, 15.294...</td>\n",
       "      <td>[121.042557, 121.131134, 15.495371, 15.584679]</td>\n",
       "    </tr>\n",
       "    <tr>\n",
       "      <th>2</th>\n",
       "      <td>MetroManila</td>\n",
       "      <td>[120.8470354518582, 121.22452516891933, 14.273...</td>\n",
       "      <td>[120.8670354518582, 121.20452516891933, 14.293...</td>\n",
       "    </tr>\n",
       "    <tr>\n",
       "      <th>3</th>\n",
       "      <td>Legazpi</td>\n",
       "      <td>[123.63316781038878, 123.90749473184147, 12.97...</td>\n",
       "      <td>[123.68657, 123.767166, 13.113921, 13.205771]</td>\n",
       "    </tr>\n",
       "    <tr>\n",
       "      <th>4</th>\n",
       "      <td>Iloilo</td>\n",
       "      <td>[122.41374050886832, 122.69006942567574, 10.61...</td>\n",
       "      <td>[122.477646, 122.602422, 10.676429, 10.80698]</td>\n",
       "    </tr>\n",
       "  </tbody>\n",
       "</table>\n",
       "</div>"
      ],
      "text/plain": [
       "          city                                        full_bounds  \\\n",
       "0      Dagupan  [120.00931049408791, 120.4821769636825, 15.907...   \n",
       "1      Palayan  [120.8625098711998, 121.33347866342953, 15.294...   \n",
       "2  MetroManila  [120.8470354518582, 121.22452516891933, 14.273...   \n",
       "3      Legazpi  [123.63316781038878, 123.90749473184147, 12.97...   \n",
       "4       Iloilo  [122.41374050886832, 122.69006942567574, 10.61...   \n",
       "\n",
       "                                      focused_bounds  \n",
       "0     [120.210342, 120.450668, 15.928978, 16.138177]  \n",
       "1     [121.042557, 121.131134, 15.495371, 15.584679]  \n",
       "2  [120.8670354518582, 121.20452516891933, 14.293...  \n",
       "3      [123.68657, 123.767166, 13.113921, 13.205771]  \n",
       "4      [122.477646, 122.602422, 10.676429, 10.80698]  "
      ]
     },
     "execution_count": 47,
     "metadata": {},
     "output_type": "execute_result"
    }
   ],
   "source": [
    "bounds_df = pd.read_csv(RAW_INPUT_PATH / 'domains' / 'downscaling_domains_fixed.csv')\n",
    "bounds_df['full_bounds'] = bounds_df['full_bounds'].apply(ast.literal_eval)\n",
    "bounds_df['focused_bounds'] = bounds_df['focused_bounds'].apply(ast.literal_eval)\n",
    "bounds_df.head()"
   ]
  },
  {
   "cell_type": "code",
   "execution_count": 48,
   "metadata": {},
   "outputs": [],
   "source": [
    "OUTPUT_CITY_NAMES = bounds_df['city'].unique()\n",
    "# Alternatively, provide a selected list of cities to perform bias correction on\n",
    "# OUTPUT_CITY_NAMES = [\"Dagupan\",\"Zamboanga\"]"
   ]
  },
  {
   "cell_type": "markdown",
   "metadata": {},
   "source": [
    "## Read station locations"
   ]
  },
  {
   "cell_type": "code",
   "execution_count": 49,
   "metadata": {},
   "outputs": [
    {
     "data": {
      "text/plain": [
       "array(['Palayan', 'Dagupan', 'Davao', 'CagayanDeOro', 'CagayanDeOro',\n",
       "       'Legazpi', 'Mandaue', 'Muntinlupa', 'Navotas', 'Mandaluyong',\n",
       "       'Tacloban', 'Zamboanga', 'Iloilo'], dtype=object)"
      ]
     },
     "execution_count": 49,
     "metadata": {},
     "output_type": "execute_result"
    }
   ],
   "source": [
    "station_locations_df = pd.read_csv(RAW_INPUT_PATH/'station_data'/'PAGASA_station_locations.csv')\n",
    "station_locations_df = station_locations_df.dropna()\n",
    "STATION_NAMES = station_locations_df['station_name'].values\n",
    "STATION_CITY_NAMES = station_locations_df['city_name'].values\n",
    "STATION_CITY_NAMES"
   ]
  },
  {
   "cell_type": "code",
   "execution_count": null,
   "metadata": {},
   "outputs": [],
   "source": [
    "# Alternatively, provide a selected list of stations to perform bias correction on\n",
    "# STATION_CITY_NAMES = [\"Dagupan\",\"Zamboanga\"]"
   ]
  },
  {
   "cell_type": "markdown",
   "metadata": {},
   "source": [
    "## Read downscaled model output"
   ]
  },
  {
   "cell_type": "code",
   "execution_count": 50,
   "metadata": {},
   "outputs": [],
   "source": [
    "output_ds_list = {}\n",
    "for city_name in OUTPUT_CITY_NAMES:\n",
    "    out_ds = xr.load_dataset(RESULTS_PATH / VARIABLE / f\"downscaled_{VARIABLE}_{city_name.lower()}.nc\")\n",
    "    out_ds = out_ds[VARIABLE]\n",
    "    output_ds_list.update({city_name: out_ds})"
   ]
  },
  {
   "cell_type": "markdown",
   "metadata": {},
   "source": [
    "## Read station data\n",
    "- Kindly request for station data through the [PAGASA climate data request site](https://www.pagasa.dost.gov.ph/climate/climate-data)"
   ]
  },
  {
   "cell_type": "code",
   "execution_count": 53,
   "metadata": {},
   "outputs": [],
   "source": [
    "# Read station data in netCDF\n",
    "station_ds_list = {}\n",
    "for city_name in STATION_CITY_NAMES:\n",
    "    stn_ds = xr.load_dataset(INPUT_PATH / \"station_data\" / f\"pagasa_station_{city_name.lower()}.nc\")\n",
    "    stn_ds = stn_ds[VARIABLE]\n",
    "    station_ds_list.update({city_name: stn_ds})"
   ]
  },
  {
   "cell_type": "markdown",
   "metadata": {},
   "source": [
    "## Bias correct using quantile mapping and save"
   ]
  },
  {
   "cell_type": "code",
   "execution_count": 56,
   "metadata": {},
   "outputs": [
    {
     "name": "stdout",
     "output_type": "stream",
     "text": [
      "Processing city CagayanDeOro...DONE!\n",
      "Processing city Dagupan...DONE!\n",
      "Processing city Davao...DONE!\n",
      "Processing city Iloilo...DONE!\n",
      "Processing city Legazpi...DONE!\n",
      "Processing city Mandaluyong...DONE!\n",
      "Processing city Mandaue...DONE!\n",
      "Processing city Muntinlupa...DONE!\n",
      "Processing city Navotas...DONE!\n",
      "Processing city Palayan...DONE!\n",
      "Processing city Tacloban...DONE!\n",
      "Processing city Zamboanga...DONE!\n"
     ]
    }
   ],
   "source": [
    "for city_name in np.unique(STATION_CITY_NAMES):\n",
    "    print(f\"Processing city {city_name}...\", end='')\n",
    "    # The Metro Manila output file contains 3 cities\n",
    "    output_city_name = 'MetroManila' if city_name in ['Muntinlupa', 'Navotas', 'Mandaluyong'] else city_name\n",
    "    output_ds=output_ds_list[output_city_name]\n",
    "    station_ds = station_ds_list[city_name]\n",
    "    corrected_output_ds = correct_gridded_cmethods(\n",
    "                output_ds,\n",
    "                station_ds[:, 0, 0].drop_vars([\"lat\", \"lon\"]),\n",
    "                group='quantile_mapping',\n",
    "                should_align=False,\n",
    "                n_quantiles=100)\n",
    "    corrected_output_ds.to_netcdf(RESULTS_PATH/ VARIABLE /f'downscaled_{VARIABLE}_{output_city_name.lower()}_corrected.nc')\n",
    "    print('DONE!')"
   ]
  },
  {
   "cell_type": "markdown",
   "metadata": {},
   "source": [
    "## Sense-check output"
   ]
  },
  {
   "cell_type": "code",
   "execution_count": 19,
   "metadata": {},
   "outputs": [
    {
     "data": {
      "text/plain": [
       "[<matplotlib.lines.Line2D at 0x7fe96aa87c10>]"
      ]
     },
     "execution_count": 19,
     "metadata": {},
     "output_type": "execute_result"
    },
    {
     "data": {
      "image/png": "[encoded data removed]",
      "text/plain": [
       "<Figure size 640x480 with 1 Axes>"
      ]
     },
     "metadata": {},
     "output_type": "display_data"
    }
   ],
   "source": [
    "x = output_ds.mean(dim=['lat','lon'])\n",
    "cx = corrected_output_ds.mean(dim=['lat','lon'])\n",
    "diff = x-cx\n",
    "diff.plot()"
   ]
  },
  {
   "cell_type": "code",
   "execution_count": null,
   "metadata": {},
   "outputs": [],
   "source": []
  }
 ],
 "metadata": {
  "kernelspec": {
   "display_name": "climate-analytics",
   "language": "python",
   "name": "python3"
  },
  "language_info": {
   "codemirror_mode": {
    "name": "ipython",
    "version": 3
   },
   "file_extension": ".py",
   "mimetype": "text/x-python",
   "name": "python",
   "nbconvert_exporter": "python",
   "pygments_lexer": "ipython3",
   "version": "3.10.13"
  }
 },
 "nbformat": 4,
 "nbformat_minor": 2
}
