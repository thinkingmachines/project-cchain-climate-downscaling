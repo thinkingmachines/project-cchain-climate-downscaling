{
 "cells": [
  {
   "cell_type": "code",
   "execution_count": 8,
   "metadata": {},
   "outputs": [],
   "source": [
    "import cdsapi\n",
    "import os, sys\n",
    "from pathlib import Path\n",
    "import time\n",
    "from tqdm import tqdm\n",
    "from loguru import logger\n",
    "import earthaccess\n",
    "import numpy as np\n",
    "import pandas as pd\n",
    "import xarray as xr"
   ]
  },
  {
   "cell_type": "markdown",
   "metadata": {},
   "source": [
    "# Download NDVI files\n",
    "\n",
    "This notebook goes through the process of downloading NDVI data in particular, the [MCD19A3CMG v061](https://lpdaac.usgs.gov/products/mcd19a3cmgv061/) data product, using module `earthaccess`."
   ]
  },
  {
   "cell_type": "markdown",
   "metadata": {},
   "source": [
    "### Set up credentials\n",
    "Key in username and password when prompted"
   ]
  },
  {
   "cell_type": "code",
   "execution_count": 2,
   "metadata": {},
   "outputs": [
    {
     "data": {
      "text/plain": [
       "<earthaccess.auth.Auth at 0x7f06441c02e0>"
      ]
     },
     "execution_count": 2,
     "metadata": {},
     "output_type": "execute_result"
    }
   ],
   "source": [
    "earthaccess.login(persist=True)"
   ]
  },
  {
   "cell_type": "markdown",
   "metadata": {},
   "source": [
    "### Input parameters\n",
    "`BATCH` is used to mark parallel downloads and make sure they dont get mixed up"
   ]
  },
  {
   "cell_type": "code",
   "execution_count": 37,
   "metadata": {},
   "outputs": [],
   "source": [
    "DEST_PATH = Path(\"../../../data/01-raw/ndvi\")\n",
    "BATCH = 1"
   ]
  },
  {
   "cell_type": "code",
   "execution_count": 4,
   "metadata": {},
   "outputs": [],
   "source": [
    "PH_BBOX = (116.5, 4.25, 127, 21.5)\n",
    "start_year = 2003\n",
    "end_year = 2006"
   ]
  },
  {
   "cell_type": "markdown",
   "metadata": {},
   "source": [
    "### Setup logging"
   ]
  },
  {
   "cell_type": "code",
   "execution_count": 56,
   "metadata": {},
   "outputs": [
    {
     "data": {
      "text/plain": [
       "12"
      ]
     },
     "execution_count": 56,
     "metadata": {},
     "output_type": "execute_result"
    }
   ],
   "source": [
    "LOG_PATH = Path(\"../../logs/\")\n",
    "\n",
    "# Configure logger\n",
    "logger.remove()\n",
    "logger.add(sys.stderr, format=\"{time} {level} {message}\", level=\"INFO\")\n",
    "\n",
    "# Configure daily rotation for file logging\n",
    "daily_sink_file_fmt = str(LOG_PATH / \"era5_{time:YYYY-MM-DD}_batch\") + f\"{BATCH}.log\"\n",
    "logger.add(\n",
    "    daily_sink_file_fmt,\n",
    "    rotation=\"00:00\",\n",
    "    format=\"{time} {level} {message}\",\n",
    "    level=\"INFO\",\n",
    ")"
   ]
  },
  {
   "cell_type": "markdown",
   "metadata": {},
   "source": [
    "### Generate monthly bounding dates"
   ]
  },
  {
   "cell_type": "code",
   "execution_count": 13,
   "metadata": {},
   "outputs": [],
   "source": [
    "def generate_monthly_date_pairs(start_year, end_year):\n",
    "    date_pairs = []\n",
    "\n",
    "    for year in range(start_year, end_year + 1):\n",
    "        for month in range(1, 13):\n",
    "            start_date = pd.Timestamp(year, month, 1)\n",
    "            end_date = start_date + pd.offsets.MonthEnd(0)\n",
    "            date_pairs.append(\n",
    "                (start_date.strftime(\"%Y-%m-%d\"), end_date.strftime(\"%Y-%m-%d\"))\n",
    "            )\n",
    "\n",
    "    return date_pairs"
   ]
  },
  {
   "cell_type": "code",
   "execution_count": 77,
   "metadata": {},
   "outputs": [
    {
     "data": {
      "text/plain": [
       "[('2003-01-01', '2003-01-31'),\n",
       " ('2003-02-01', '2003-02-28'),\n",
       " ('2003-03-01', '2003-03-31'),\n",
       " ('2003-04-01', '2003-04-30'),\n",
       " ('2003-05-01', '2003-05-31'),\n",
       " ('2003-06-01', '2003-06-30'),\n",
       " ('2003-07-01', '2003-07-31'),\n",
       " ('2003-08-01', '2003-08-31'),\n",
       " ('2003-09-01', '2003-09-30'),\n",
       " ('2003-10-01', '2003-10-31'),\n",
       " ('2003-11-01', '2003-11-30'),\n",
       " ('2003-12-01', '2003-12-31'),\n",
       " ('2004-01-01', '2004-01-31'),\n",
       " ('2004-02-01', '2004-02-29'),\n",
       " ('2004-03-01', '2004-03-31'),\n",
       " ('2004-04-01', '2004-04-30'),\n",
       " ('2004-05-01', '2004-05-31'),\n",
       " ('2004-06-01', '2004-06-30'),\n",
       " ('2004-07-01', '2004-07-31'),\n",
       " ('2004-08-01', '2004-08-31'),\n",
       " ('2004-09-01', '2004-09-30'),\n",
       " ('2004-10-01', '2004-10-31'),\n",
       " ('2004-11-01', '2004-11-30'),\n",
       " ('2004-12-01', '2004-12-31'),\n",
       " ('2005-01-01', '2005-01-31'),\n",
       " ('2005-02-01', '2005-02-28'),\n",
       " ('2005-03-01', '2005-03-31'),\n",
       " ('2005-04-01', '2005-04-30'),\n",
       " ('2005-05-01', '2005-05-31'),\n",
       " ('2005-06-01', '2005-06-30'),\n",
       " ('2005-07-01', '2005-07-31'),\n",
       " ('2005-08-01', '2005-08-31'),\n",
       " ('2005-09-01', '2005-09-30'),\n",
       " ('2005-10-01', '2005-10-31'),\n",
       " ('2005-11-01', '2005-11-30'),\n",
       " ('2005-12-01', '2005-12-31'),\n",
       " ('2006-01-01', '2006-01-31'),\n",
       " ('2006-02-01', '2006-02-28'),\n",
       " ('2006-03-01', '2006-03-31'),\n",
       " ('2006-04-01', '2006-04-30'),\n",
       " ('2006-05-01', '2006-05-31'),\n",
       " ('2006-06-01', '2006-06-30'),\n",
       " ('2006-07-01', '2006-07-31'),\n",
       " ('2006-08-01', '2006-08-31'),\n",
       " ('2006-09-01', '2006-09-30'),\n",
       " ('2006-10-01', '2006-10-31'),\n",
       " ('2006-11-01', '2006-11-30'),\n",
       " ('2006-12-01', '2006-12-31')]"
      ]
     },
     "execution_count": 77,
     "metadata": {},
     "output_type": "execute_result"
    }
   ],
   "source": [
    "date_pairs = generate_monthly_date_pairs(start_year, end_year)\n",
    "date_pairs"
   ]
  },
  {
   "cell_type": "markdown",
   "metadata": {},
   "source": [
    "### Create monthly batch dump folder"
   ]
  },
  {
   "cell_type": "code",
   "execution_count": null,
   "metadata": {},
   "outputs": [],
   "source": [
    "os.makedirs(DEST_PATH / f\"hdfs{BATCH}\", exist_ok=True)"
   ]
  },
  {
   "cell_type": "code",
   "execution_count": 78,
   "metadata": {},
   "outputs": [],
   "source": [
    "# Delete files if directory exists\n",
    "for fn in os.listdir(DEST_PATH / f\"hdfs{BATCH}\"):\n",
    "    os.remove(DEST_PATH / f\"hdfs{BATCH}\" / fn)"
   ]
  },
  {
   "cell_type": "markdown",
   "metadata": {},
   "source": [
    "### Download daily files and save as single monthly file\n",
    "Check the logfile in `logs/` to see the progress"
   ]
  },
  {
   "cell_type": "code",
   "execution_count": null,
   "metadata": {},
   "outputs": [],
   "source": [
    "VARIABLES = [\"NDVI_gapfill\", \"EVI\"]  # EVI optional to keep"
   ]
  },
  {
   "cell_type": "code",
   "execution_count": 80,
   "metadata": {},
   "outputs": [
    {
     "name": "stderr",
     "output_type": "stream",
     "text": [
      "2024-03-15T21:09:03.630330+0800 INFO ===========================================================================================\n",
      "2024-03-15T21:09:03.632061+0800 INFO Downloading data for the month 2003-01-01 to filename NDVI_PH_200301.nc\n",
      "2024-03-15T21:09:03.632665+0800 WARNING NDVI_PH_200301.nc already exists in ../../../data/01-raw/ndvi! Skipping request.\n",
      "2024-03-15T21:09:03.633323+0800 INFO ===========================================================================================\n",
      "2024-03-15T21:09:03.634072+0800 INFO Downloading data for the month 2003-02-01 to filename NDVI_PH_200302.nc\n",
      "2024-03-15T21:09:03.634629+0800 WARNING NDVI_PH_200302.nc already exists in ../../../data/01-raw/ndvi! Skipping request.\n",
      "2024-03-15T21:09:03.635701+0800 INFO ===========================================================================================\n",
      "2024-03-15T21:09:03.636955+0800 INFO Downloading data for the month 2003-03-01 to filename NDVI_PH_200303.nc\n",
      "2024-03-15T21:09:03.637749+0800 WARNING NDVI_PH_200303.nc already exists in ../../../data/01-raw/ndvi! Skipping request.\n",
      "2024-03-15T21:09:03.638443+0800 INFO ===========================================================================================\n",
      "2024-03-15T21:09:03.638849+0800 INFO Downloading data for the month 2003-04-01 to filename NDVI_PH_200304.nc\n",
      "2024-03-15T21:09:03.639598+0800 WARNING NDVI_PH_200304.nc already exists in ../../../data/01-raw/ndvi! Skipping request.\n",
      "2024-03-15T21:09:03.640114+0800 INFO ===========================================================================================\n",
      "2024-03-15T21:09:03.640529+0800 INFO Downloading data for the month 2003-05-01 to filename NDVI_PH_200305.nc\n",
      "2024-03-15T21:09:03.641324+0800 WARNING NDVI_PH_200305.nc already exists in ../../../data/01-raw/ndvi! Skipping request.\n",
      "2024-03-15T21:09:03.641756+0800 INFO ===========================================================================================\n",
      "2024-03-15T21:09:03.642484+0800 INFO Downloading data for the month 2003-06-01 to filename NDVI_PH_200306.nc\n",
      "2024-03-15T21:09:03.643176+0800 WARNING NDVI_PH_200306.nc already exists in ../../../data/01-raw/ndvi! Skipping request.\n",
      "2024-03-15T21:09:03.643631+0800 INFO ===========================================================================================\n",
      "2024-03-15T21:09:03.644530+0800 INFO Downloading data for the month 2003-07-01 to filename NDVI_PH_200307.nc\n",
      "2024-03-15T21:09:03.645496+0800 WARNING NDVI_PH_200307.nc already exists in ../../../data/01-raw/ndvi! Skipping request.\n",
      "2024-03-15T21:09:03.646198+0800 INFO ===========================================================================================\n",
      "2024-03-15T21:09:03.646684+0800 INFO Downloading data for the month 2003-08-01 to filename NDVI_PH_200308.nc\n",
      "2024-03-15T21:09:03.647484+0800 WARNING NDVI_PH_200308.nc already exists in ../../../data/01-raw/ndvi! Skipping request.\n",
      "2024-03-15T21:09:03.647984+0800 INFO ===========================================================================================\n",
      "2024-03-15T21:09:03.648828+0800 INFO Downloading data for the month 2003-09-01 to filename NDVI_PH_200309.nc\n",
      "2024-03-15T21:09:03.649495+0800 WARNING NDVI_PH_200309.nc already exists in ../../../data/01-raw/ndvi! Skipping request.\n",
      "2024-03-15T21:09:03.650447+0800 INFO ===========================================================================================\n",
      "2024-03-15T21:09:03.650929+0800 INFO Downloading data for the month 2003-10-01 to filename NDVI_PH_200310.nc\n",
      "2024-03-15T21:09:03.652031+0800 WARNING NDVI_PH_200310.nc already exists in ../../../data/01-raw/ndvi! Skipping request.\n",
      "2024-03-15T21:09:03.652997+0800 INFO ===========================================================================================\n",
      "2024-03-15T21:09:03.653908+0800 INFO Downloading data for the month 2003-11-01 to filename NDVI_PH_200311.nc\n",
      "2024-03-15T21:09:03.655166+0800 WARNING NDVI_PH_200311.nc already exists in ../../../data/01-raw/ndvi! Skipping request.\n",
      "2024-03-15T21:09:03.655946+0800 INFO ===========================================================================================\n",
      "2024-03-15T21:09:03.656432+0800 INFO Downloading data for the month 2003-12-01 to filename NDVI_PH_200312.nc\n",
      "2024-03-15T21:09:03.657486+0800 WARNING NDVI_PH_200312.nc already exists in ../../../data/01-raw/ndvi! Skipping request.\n",
      "2024-03-15T21:09:03.658262+0800 INFO ===========================================================================================\n",
      "2024-03-15T21:09:03.658941+0800 INFO Downloading data for the month 2004-01-01 to filename NDVI_PH_200401.nc\n",
      "2024-03-15T21:09:03.659733+0800 WARNING NDVI_PH_200401.nc already exists in ../../../data/01-raw/ndvi! Skipping request.\n",
      "2024-03-15T21:09:03.660420+0800 INFO ===========================================================================================\n",
      "2024-03-15T21:09:03.661121+0800 INFO Downloading data for the month 2004-02-01 to filename NDVI_PH_200402.nc\n",
      "2024-03-15T21:09:03.661809+0800 WARNING NDVI_PH_200402.nc already exists in ../../../data/01-raw/ndvi! Skipping request.\n",
      "2024-03-15T21:09:03.662461+0800 INFO ===========================================================================================\n",
      "2024-03-15T21:09:03.663065+0800 INFO Downloading data for the month 2004-03-01 to filename NDVI_PH_200403.nc\n",
      "2024-03-15T21:09:03.663726+0800 WARNING NDVI_PH_200403.nc already exists in ../../../data/01-raw/ndvi! Skipping request.\n",
      "2024-03-15T21:09:03.664266+0800 INFO ===========================================================================================\n",
      "2024-03-15T21:09:03.664951+0800 INFO Downloading data for the month 2004-04-01 to filename NDVI_PH_200404.nc\n",
      "2024-03-15T21:09:03.665723+0800 WARNING NDVI_PH_200404.nc already exists in ../../../data/01-raw/ndvi! Skipping request.\n",
      "2024-03-15T21:09:03.666366+0800 INFO ===========================================================================================\n",
      "2024-03-15T21:09:03.666696+0800 INFO Downloading data for the month 2004-05-01 to filename NDVI_PH_200405.nc\n",
      "2024-03-15T21:09:03.667099+0800 WARNING NDVI_PH_200405.nc already exists in ../../../data/01-raw/ndvi! Skipping request.\n",
      "2024-03-15T21:09:03.667580+0800 INFO ===========================================================================================\n",
      "2024-03-15T21:09:03.668469+0800 INFO Downloading data for the month 2004-06-01 to filename NDVI_PH_200406.nc\n",
      "2024-03-15T21:09:03.669678+0800 WARNING NDVI_PH_200406.nc already exists in ../../../data/01-raw/ndvi! Skipping request.\n",
      "2024-03-15T21:09:03.670660+0800 INFO ===========================================================================================\n",
      "2024-03-15T21:09:03.671159+0800 INFO Downloading data for the month 2004-07-01 to filename NDVI_PH_200407.nc\n",
      "2024-03-15T21:09:03.672095+0800 WARNING NDVI_PH_200407.nc already exists in ../../../data/01-raw/ndvi! Skipping request.\n",
      "2024-03-15T21:09:03.672584+0800 INFO ===========================================================================================\n",
      "2024-03-15T21:09:03.673154+0800 INFO Downloading data for the month 2004-08-01 to filename NDVI_PH_200408.nc\n",
      "2024-03-15T21:09:03.673737+0800 WARNING NDVI_PH_200408.nc already exists in ../../../data/01-raw/ndvi! Skipping request.\n",
      "2024-03-15T21:09:03.674326+0800 INFO ===========================================================================================\n",
      "2024-03-15T21:09:03.674681+0800 INFO Downloading data for the month 2004-09-01 to filename NDVI_PH_200409.nc\n",
      "2024-03-15T21:09:03.675423+0800 WARNING NDVI_PH_200409.nc already exists in ../../../data/01-raw/ndvi! Skipping request.\n",
      "2024-03-15T21:09:03.676334+0800 INFO ===========================================================================================\n",
      "2024-03-15T21:09:03.677005+0800 INFO Downloading data for the month 2004-10-01 to filename NDVI_PH_200410.nc\n",
      "2024-03-15T21:09:03.677565+0800 WARNING NDVI_PH_200410.nc already exists in ../../../data/01-raw/ndvi! Skipping request.\n",
      "2024-03-15T21:09:03.678212+0800 INFO ===========================================================================================\n",
      "2024-03-15T21:09:03.678811+0800 INFO Downloading data for the month 2004-11-01 to filename NDVI_PH_200411.nc\n",
      "2024-03-15T21:09:03.679186+0800 WARNING NDVI_PH_200411.nc already exists in ../../../data/01-raw/ndvi! Skipping request.\n",
      "2024-03-15T21:09:03.679939+0800 INFO ===========================================================================================\n",
      "2024-03-15T21:09:03.680486+0800 INFO Downloading data for the month 2004-12-01 to filename NDVI_PH_200412.nc\n",
      "2024-03-15T21:09:03.681320+0800 WARNING NDVI_PH_200412.nc already exists in ../../../data/01-raw/ndvi! Skipping request.\n",
      "2024-03-15T21:09:03.681949+0800 INFO ===========================================================================================\n",
      "2024-03-15T21:09:03.682397+0800 INFO Downloading data for the month 2005-01-01 to filename NDVI_PH_200501.nc\n",
      "2024-03-15T21:09:03.682775+0800 WARNING NDVI_PH_200501.nc already exists in ../../../data/01-raw/ndvi! Skipping request.\n",
      "2024-03-15T21:09:03.683176+0800 INFO ===========================================================================================\n",
      "2024-03-15T21:09:03.683464+0800 INFO Downloading data for the month 2005-02-01 to filename NDVI_PH_200502.nc\n",
      "2024-03-15T21:09:03.684165+0800 WARNING NDVI_PH_200502.nc already exists in ../../../data/01-raw/ndvi! Skipping request.\n",
      "2024-03-15T21:09:03.684582+0800 INFO ===========================================================================================\n",
      "2024-03-15T21:09:03.685195+0800 INFO Downloading data for the month 2005-03-01 to filename NDVI_PH_200503.nc\n",
      "2024-03-15T21:09:03.686440+0800 WARNING NDVI_PH_200503.nc already exists in ../../../data/01-raw/ndvi! Skipping request.\n",
      "2024-03-15T21:09:03.687060+0800 INFO ===========================================================================================\n",
      "2024-03-15T21:09:03.687710+0800 INFO Downloading data for the month 2005-04-01 to filename NDVI_PH_200504.nc\n",
      "2024-03-15T21:09:03.688335+0800 WARNING NDVI_PH_200504.nc already exists in ../../../data/01-raw/ndvi! Skipping request.\n",
      "2024-03-15T21:09:03.688677+0800 INFO ===========================================================================================\n",
      "2024-03-15T21:09:03.689112+0800 INFO Downloading data for the month 2005-05-01 to filename NDVI_PH_200505.nc\n",
      "2024-03-15T21:09:03.689700+0800 WARNING NDVI_PH_200505.nc already exists in ../../../data/01-raw/ndvi! Skipping request.\n",
      "2024-03-15T21:09:03.690079+0800 INFO ===========================================================================================\n",
      "2024-03-15T21:09:03.690367+0800 INFO Downloading data for the month 2005-06-01 to filename NDVI_PH_200506.nc\n",
      "2024-03-15T21:09:03.690798+0800 WARNING NDVI_PH_200506.nc already exists in ../../../data/01-raw/ndvi! Skipping request.\n",
      "2024-03-15T21:09:03.691933+0800 INFO ===========================================================================================\n",
      "2024-03-15T21:09:03.692493+0800 INFO Downloading data for the month 2005-07-01 to filename NDVI_PH_200507.nc\n",
      "2024-03-15T21:09:03.693202+0800 WARNING NDVI_PH_200507.nc already exists in ../../../data/01-raw/ndvi! Skipping request.\n",
      "2024-03-15T21:09:03.693689+0800 INFO ===========================================================================================\n",
      "2024-03-15T21:09:03.694018+0800 INFO Downloading data for the month 2005-08-01 to filename NDVI_PH_200508.nc\n",
      "2024-03-15T21:09:03.694656+0800 WARNING NDVI_PH_200508.nc already exists in ../../../data/01-raw/ndvi! Skipping request.\n",
      "2024-03-15T21:09:03.695100+0800 INFO ===========================================================================================\n",
      "2024-03-15T21:09:03.695403+0800 INFO Downloading data for the month 2005-09-01 to filename NDVI_PH_200509.nc\n",
      "2024-03-15T21:09:03.696098+0800 WARNING NDVI_PH_200509.nc already exists in ../../../data/01-raw/ndvi! Skipping request.\n",
      "2024-03-15T21:09:03.696522+0800 INFO ===========================================================================================\n",
      "2024-03-15T21:09:03.696895+0800 INFO Downloading data for the month 2005-10-01 to filename NDVI_PH_200510.nc\n",
      "2024-03-15T21:09:03.697330+0800 WARNING NDVI_PH_200510.nc already exists in ../../../data/01-raw/ndvi! Skipping request.\n",
      "2024-03-15T21:09:03.697690+0800 INFO ===========================================================================================\n",
      "2024-03-15T21:09:03.698051+0800 INFO Downloading data for the month 2005-11-01 to filename NDVI_PH_200511.nc\n",
      "2024-03-15T21:09:03.698466+0800 WARNING NDVI_PH_200511.nc already exists in ../../../data/01-raw/ndvi! Skipping request.\n",
      "2024-03-15T21:09:03.698994+0800 INFO ===========================================================================================\n",
      "2024-03-15T21:09:03.699370+0800 INFO Downloading data for the month 2005-12-01 to filename NDVI_PH_200512.nc\n",
      "2024-03-15T21:09:03.699829+0800 WARNING NDVI_PH_200512.nc already exists in ../../../data/01-raw/ndvi! Skipping request.\n",
      "2024-03-15T21:09:03.700336+0800 INFO ===========================================================================================\n",
      "2024-03-15T21:09:03.701143+0800 INFO Downloading data for the month 2006-01-01 to filename NDVI_PH_200601.nc\n",
      "2024-03-15T21:09:03.702859+0800 WARNING NDVI_PH_200601.nc already exists in ../../../data/01-raw/ndvi! Skipping request.\n",
      "2024-03-15T21:09:03.703697+0800 INFO ===========================================================================================\n",
      "2024-03-15T21:09:03.704634+0800 INFO Downloading data for the month 2006-02-01 to filename NDVI_PH_200602.nc\n",
      "2024-03-15T21:09:03.705815+0800 WARNING NDVI_PH_200602.nc already exists in ../../../data/01-raw/ndvi! Skipping request.\n",
      "2024-03-15T21:09:03.706651+0800 INFO ===========================================================================================\n",
      "2024-03-15T21:09:03.706981+0800 INFO Downloading data for the month 2006-03-01 to filename NDVI_PH_200603.nc\n",
      "2024-03-15T21:09:03.707652+0800 WARNING NDVI_PH_200603.nc already exists in ../../../data/01-raw/ndvi! Skipping request.\n",
      "2024-03-15T21:09:03.708144+0800 INFO ===========================================================================================\n",
      "2024-03-15T21:09:03.708592+0800 INFO Downloading data for the month 2006-04-01 to filename NDVI_PH_200604.nc\n",
      "2024-03-15T21:09:03.708916+0800 WARNING NDVI_PH_200604.nc already exists in ../../../data/01-raw/ndvi! Skipping request.\n",
      "2024-03-15T21:09:03.709538+0800 INFO ===========================================================================================\n",
      "2024-03-15T21:09:03.710013+0800 INFO Downloading data for the month 2006-05-01 to filename NDVI_PH_200605.nc\n",
      "2024-03-15T21:09:03.710942+0800 WARNING NDVI_PH_200605.nc already exists in ../../../data/01-raw/ndvi! Skipping request.\n",
      "2024-03-15T21:09:03.711807+0800 INFO ===========================================================================================\n",
      "2024-03-15T21:09:03.712298+0800 INFO Downloading data for the month 2006-06-01 to filename NDVI_PH_200606.nc\n",
      "2024-03-15T21:09:03.713175+0800 WARNING NDVI_PH_200606.nc already exists in ../../../data/01-raw/ndvi! Skipping request.\n",
      "2024-03-15T21:09:03.713711+0800 INFO ===========================================================================================\n",
      "2024-03-15T21:09:03.714035+0800 INFO Downloading data for the month 2006-07-01 to filename NDVI_PH_200607.nc\n",
      "2024-03-15T21:09:03.714345+0800 WARNING NDVI_PH_200607.nc already exists in ../../../data/01-raw/ndvi! Skipping request.\n",
      "2024-03-15T21:09:03.714905+0800 INFO ===========================================================================================\n",
      "2024-03-15T21:09:03.715376+0800 INFO Downloading data for the month 2006-08-01 to filename NDVI_PH_200608.nc\n"
     ]
    },
    {
     "name": "stdout",
     "output_type": "stream",
     "text": [
      "Granules found: 31\n",
      " Getting 31 granules, approx download size: 0.89 GB\n"
     ]
    },
    {
     "name": "stderr",
     "output_type": "stream",
     "text": [
      "QUEUEING TASKS | : 100%|██████████| 31/31 [00:00<00:00, 2875.99it/s]\n",
      "PROCESSING TASKS | : 100%|██████████| 31/31 [00:40<00:00,  1.29s/it]\n",
      "COLLECTING RESULTS | : 100%|██████████| 31/31 [00:00<00:00, 272585.79it/s]\n",
      "2024-03-15T21:09:46.964723+0800 INFO Processing daily data to create NDVI_PH_200608.nc...\n",
      "2024-03-15T21:10:01.074645+0800 SUCCESS File NDVI_PH_200608.nc done in 00:00:57\n",
      "2024-03-15T21:10:01.167139+0800 INFO ===========================================================================================\n",
      "2024-03-15T21:10:01.168065+0800 INFO Downloading data for the month 2006-09-01 to filename NDVI_PH_200609.nc\n",
      "2024-03-15T21:10:01.168925+0800 WARNING NDVI_PH_200609.nc already exists in ../../../data/01-raw/ndvi! Skipping request.\n",
      "2024-03-15T21:10:01.169664+0800 INFO ===========================================================================================\n",
      "2024-03-15T21:10:01.170350+0800 INFO Downloading data for the month 2006-10-01 to filename NDVI_PH_200610.nc\n",
      "2024-03-15T21:10:01.171021+0800 WARNING NDVI_PH_200610.nc already exists in ../../../data/01-raw/ndvi! Skipping request.\n",
      "2024-03-15T21:10:01.171452+0800 INFO ===========================================================================================\n",
      "2024-03-15T21:10:01.171890+0800 INFO Downloading data for the month 2006-11-01 to filename NDVI_PH_200611.nc\n",
      "2024-03-15T21:10:01.172369+0800 WARNING NDVI_PH_200611.nc already exists in ../../../data/01-raw/ndvi! Skipping request.\n",
      "2024-03-15T21:10:01.172746+0800 INFO ===========================================================================================\n",
      "2024-03-15T21:10:01.173160+0800 INFO Downloading data for the month 2006-12-01 to filename NDVI_PH_200612.nc\n",
      "2024-03-15T21:10:01.173870+0800 WARNING NDVI_PH_200612.nc already exists in ../../../data/01-raw/ndvi! Skipping request.\n"
     ]
    }
   ],
   "source": [
    "for months in date_pairs:\n",
    "    start_time = time.time()\n",
    "    month_fn = \"\".join(months[0].split(\"-\")[:-1])\n",
    "    output_filename = f\"NDVI_PH_{month_fn}.nc\"\n",
    "    logger.info(\n",
    "        \"===========================================================================================\"\n",
    "    )\n",
    "\n",
    "    logger.info(\n",
    "        f\"Downloading data for the month {months[0]} to filename {output_filename}\"\n",
    "    )\n",
    "\n",
    "    if (DEST_PATH / output_filename).is_file():\n",
    "        logger.warning(\n",
    "            f\"{output_filename} already exists in {DEST_PATH}! Skipping request.\"\n",
    "        )\n",
    "        continue\n",
    "\n",
    "    results = earthaccess.search_data(\n",
    "        short_name=\"MCD19A3CMG\",\n",
    "        cloud_hosted=True,\n",
    "        bounding_box=PH_BBOX,\n",
    "        temporal=months,\n",
    "    )\n",
    "\n",
    "    files = earthaccess.download(results, DEST_PATH / f\"hdfs{BATCH}\")\n",
    "\n",
    "    # Stop and check if folder has expected number of files\n",
    "    try:\n",
    "        assert len(results) == len(os.listdir(DEST_PATH / f\"hdfs{BATCH}\"))\n",
    "    except:\n",
    "        logger.error(\n",
    "            f\"{month_fn } has incomplete downloaded data! Please check and rerun, skipping...\"\n",
    "        )\n",
    "        for fn in os.listdir(DEST_PATH / f\"hdfs{BATCH}\"):\n",
    "            os.remove(DEST_PATH / f\"hdfs{BATCH}\" / fn)\n",
    "        continue\n",
    "\n",
    "    logger.info(f\"Processing daily data to create {output_filename}...\")\n",
    "\n",
    "    # download daily files\n",
    "    ds_list = []\n",
    "    for fn in os.listdir(DEST_PATH / f\"hdfs{BATCH}\"):\n",
    "        ds = xr.open_dataset(DEST_PATH / f\"hdfs{BATCH}\" / fn, engine=\"rasterio\")\n",
    "        # subset to bounding box and variable list\n",
    "        ds = ds[VARIABLES]\n",
    "        ds = ds.sel(y=slice(PH_BBOX[3], PH_BBOX[1]), x=slice(PH_BBOX[0], PH_BBOX[2]))\n",
    "        # add time dimension\n",
    "        file_dt = pd.to_datetime(\n",
    "            f\"{ds.attrs['EQUATORCROSSINGDATE.1']} {ds.attrs['EQUATORCROSSINGTIME.1'].split('.')[0]}\"\n",
    "        ).to_datetime64()\n",
    "        ds = ds.assign_coords(time=file_dt)\n",
    "        ds = ds.expand_dims(dim=\"time\")\n",
    "        ds_list.append(ds)\n",
    "\n",
    "    # concatenate daily datasets and save as netcdf\n",
    "    month_ds = xr.concat(ds_list, dim=\"time\")\n",
    "    month_ds.to_netcdf(DEST_PATH / output_filename)\n",
    "\n",
    "    end_time = time.time()\n",
    "    runtime_seconds = end_time - start_time\n",
    "    human_readable_runtime = time.strftime(\"%H:%M:%S\", time.gmtime(runtime_seconds))\n",
    "\n",
    "    logger.success(f\"File {output_filename} done in {human_readable_runtime}\")\n",
    "    # clean download dump folder\n",
    "    for fn in os.listdir(DEST_PATH / f\"hdfs{BATCH}\"):\n",
    "        os.remove(DEST_PATH / f\"hdfs{BATCH}\" / fn)"
   ]
  },
  {
   "cell_type": "code",
   "execution_count": null,
   "metadata": {},
   "outputs": [],
   "source": []
  }
 ],
 "metadata": {
  "kernelspec": {
   "display_name": "climate-downscaling",
   "language": "python",
   "name": "python3"
  },
  "language_info": {
   "codemirror_mode": {
    "name": "ipython",
    "version": 3
   },
   "file_extension": ".py",
   "mimetype": "text/x-python",
   "name": "python",
   "nbconvert_exporter": "python",
   "pygments_lexer": "ipython3",
   "version": "3.10.13"
  }
 },
 "nbformat": 4,
 "nbformat_minor": 2
}
