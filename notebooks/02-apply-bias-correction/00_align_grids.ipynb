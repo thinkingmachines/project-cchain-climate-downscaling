{
 "cells": [
  {
   "cell_type": "code",
   "execution_count": null,
   "metadata": {},
   "outputs": [],
   "source": [
    "from pathlib import Path\n",
    "from functools import partial\n",
    "\n",
    "import numpy as np\n",
    "import geopandas as gpd\n",
    "import xarray as xr\n",
    "import xesmf as xe"
   ]
  },
  {
   "cell_type": "markdown",
   "metadata": {},
   "source": [
    "# Familiarize with data\n",
    "\n",
    "1. Create first plots per city and overlay station data as points\n",
    "\n",
    "From `notebooks/01-align-grids/02_align_data.ipynb`"
   ]
  },
  {
   "cell_type": "markdown",
   "metadata": {},
   "source": [
    "### Input parameters"
   ]
  },
  {
   "cell_type": "code",
   "execution_count": null,
   "metadata": {},
   "outputs": [],
   "source": [
    "INPUT_PATH = Path(\"../../data/01-raw\")\n",
    "DEST_PATH = Path(\"../../data/02-processed\")\n",
    "RESOLUTION = 0.02  # 2 km\n",
    "CROP_ALLOWANCE_DEG = 13 * RESOLUTION\n",
    "CITY_NAME = \"Dagupan\"\n",
    "YEAR = 2007\n",
    "\n",
    "(DEST_PATH / \"input\").mkdir(parents=True, exist_ok=True)"
   ]
  },
  {
   "cell_type": "markdown",
   "metadata": {},
   "source": [
    "### Read bounds"
   ]
  },
  {
   "cell_type": "code",
   "execution_count": null,
   "metadata": {},
   "outputs": [],
   "source": [
    "bounds_gdf = gpd.read_file(\n",
    "    INPUT_PATH / \"domains\" / \"downscaling_domains_fixed.geojson\", driver=\"GeoJSON\"\n",
    ")\n",
    "bounds_gdf.head()"
   ]
  },
  {
   "cell_type": "code",
   "execution_count": null,
   "metadata": {},
   "outputs": [],
   "source": [
    "city_bounds_gdf = bounds_gdf[bounds_gdf[\"city\"] == CITY_NAME].copy()\n",
    "city_bounds_gdf"
   ]
  },
  {
   "cell_type": "code",
   "execution_count": null,
   "metadata": {},
   "outputs": [],
   "source": [
    "lon0, lat0, lon1, lat1 = city_bounds_gdf.total_bounds\n",
    "lon0, lat0, lon1, lat1"
   ]
  },
  {
   "cell_type": "markdown",
   "metadata": {},
   "source": [
    "### Create grid"
   ]
  },
  {
   "cell_type": "code",
   "execution_count": null,
   "metadata": {},
   "outputs": [],
   "source": [
    "ds_grid = xr.Dataset(\n",
    "    {\n",
    "        \"lat\": ([\"lat\"], np.arange(lat0, lat1 + RESOLUTION, RESOLUTION)),\n",
    "        \"lon\": ([\"lon\"], np.arange(lon0, lon1 + RESOLUTION, RESOLUTION)),\n",
    "    }\n",
    ")\n",
    "ds_grid"
   ]
  },
  {
   "cell_type": "markdown",
   "metadata": {},
   "source": [
    "## Align CHIRTS"
   ]
  },
  {
   "cell_type": "code",
   "execution_count": null,
   "metadata": {},
   "outputs": [],
   "source": [
    "def _preprocess(ds, lon_bnds, lat_bnds):\n",
    "    return ds.sel(longitude=slice(*lon_bnds), latitude=slice(*lat_bnds))"
   ]
  },
  {
   "cell_type": "code",
   "execution_count": null,
   "metadata": {},
   "outputs": [],
   "source": [
    "lon_bnds, lat_bnds = (\n",
    "    (lon0 - CROP_ALLOWANCE_DEG, lon1 + CROP_ALLOWANCE_DEG),\n",
    "    (lat0 - CROP_ALLOWANCE_DEG, lat1 + CROP_ALLOWANCE_DEG),\n",
    ")\n",
    "partial_func = partial(_preprocess, lon_bnds=lon_bnds, lat_bnds=lat_bnds)\n",
    "chirts_fns = list((INPUT_PATH / \"chirts\").glob(f\"CHIRTS_Tmax_PH_{YEAR}*.nc\"))\n",
    "ds = xr.open_mfdataset(chirts_fns, preprocess=partial_func)\n",
    "chirts_tmax_ds = ds.rename({\"longitude\": \"lon\", \"latitude\": \"lat\"})\n",
    "chirts_tmax_ds"
   ]
  },
  {
   "cell_type": "code",
   "execution_count": null,
   "metadata": {},
   "outputs": [],
   "source": [
    "lon_bnds, lat_bnds = (\n",
    "    (lon0 - CROP_ALLOWANCE_DEG, lon1 + CROP_ALLOWANCE_DEG),\n",
    "    (lat0 - CROP_ALLOWANCE_DEG, lat1 + CROP_ALLOWANCE_DEG),\n",
    ")\n",
    "partial_func = partial(_preprocess, lon_bnds=lon_bnds, lat_bnds=lat_bnds)\n",
    "chirts_fns = list((INPUT_PATH / \"chirts\").glob(f\"CHIRTS_Tmin_PH_{YEAR}*.nc\"))\n",
    "ds = xr.open_mfdataset(chirts_fns, preprocess=partial_func)\n",
    "chirts_tmin_ds = ds.rename({\"longitude\": \"lon\", \"latitude\": \"lat\"})\n",
    "chirts_tmin_ds"
   ]
  },
  {
   "cell_type": "code",
   "execution_count": null,
   "metadata": {},
   "outputs": [],
   "source": [
    "chirts_regridder = xe.Regridder(chirts_tmin_ds, ds_grid, \"bilinear\")\n",
    "chirts_regridder"
   ]
  },
  {
   "cell_type": "code",
   "execution_count": null,
   "metadata": {},
   "outputs": [],
   "source": [
    "chirts_tmax_regridded_ds = chirts_regridder(chirts_tmax_ds, keep_attrs=True)\n",
    "chirts_tmax_regridded_ds"
   ]
  },
  {
   "cell_type": "code",
   "execution_count": null,
   "metadata": {},
   "outputs": [],
   "source": [
    "chirts_tmin_regridded_ds = chirts_regridder(chirts_tmin_ds, keep_attrs=True)\n",
    "chirts_tmin_regridded_ds"
   ]
  },
  {
   "cell_type": "code",
   "execution_count": null,
   "metadata": {},
   "outputs": [],
   "source": [
    "chirts_regridded_ds = xr.merge([chirts_tmin_regridded_ds, chirts_tmax_regridded_ds])\n",
    "for variable in [\n",
    "    v\n",
    "    for v in list(chirts_regridded_ds.variables.keys())\n",
    "    if v not in [\"lon\", \"lat\", \"time\"]\n",
    "]:\n",
    "    chirts_regridded_ds = chirts_regridded_ds.rename({variable: variable.lower()})\n",
    "chirts_regridded_ds"
   ]
  },
  {
   "cell_type": "code",
   "execution_count": null,
   "metadata": {},
   "outputs": [],
   "source": [
    "chirts_tmin_ds.isel(time=100)[\"Tmin\"].plot()"
   ]
  },
  {
   "cell_type": "code",
   "execution_count": null,
   "metadata": {},
   "outputs": [],
   "source": [
    "chirts_regridded_ds.isel(time=100)[\"tmin\"].plot()"
   ]
  },
  {
   "cell_type": "code",
   "execution_count": null,
   "metadata": {},
   "outputs": [],
   "source": [
    "chirts_regridded_ds.to_netcdf(\n",
    "    DEST_PATH / \"input\" / f\"chirts_regridded_{CITY_NAME.lower()}.nc\", engine=\"scipy\"\n",
    ")"
   ]
  },
  {
   "cell_type": "markdown",
   "metadata": {},
   "source": [
    "## Align CHIRPS"
   ]
  },
  {
   "cell_type": "code",
   "execution_count": null,
   "metadata": {},
   "outputs": [],
   "source": [
    "lon_bnds, lat_bnds = (\n",
    "    (lon0 - CROP_ALLOWANCE_DEG, lon1 + CROP_ALLOWANCE_DEG),\n",
    "    (lat0 - CROP_ALLOWANCE_DEG, lat1 + CROP_ALLOWANCE_DEG),\n",
    ")\n",
    "partial_func = partial(_preprocess, lon_bnds=lon_bnds, lat_bnds=lat_bnds)\n",
    "chirps_fns = list((INPUT_PATH / \"chirps\").glob(f\"CHIRPS_PH_{YEAR}*.nc\"))\n",
    "ds = xr.open_mfdataset(chirps_fns, preprocess=partial_func)\n",
    "chirps_ds = ds.rename({\"longitude\": \"lon\", \"latitude\": \"lat\"})\n",
    "chirps_ds"
   ]
  },
  {
   "cell_type": "code",
   "execution_count": null,
   "metadata": {},
   "outputs": [],
   "source": [
    "chirps_regridder = xe.Regridder(chirps_ds, ds_grid, \"bilinear\")\n",
    "chirps_regridder"
   ]
  },
  {
   "cell_type": "code",
   "execution_count": null,
   "metadata": {},
   "outputs": [],
   "source": [
    "chirps_regridded_ds = chirps_regridder(chirps_ds, keep_attrs=True)\n",
    "chirps_regridded_ds"
   ]
  },
  {
   "cell_type": "code",
   "execution_count": null,
   "metadata": {},
   "outputs": [],
   "source": [
    "chirps_ds.isel(time=100)[\"precip\"].plot()"
   ]
  },
  {
   "cell_type": "code",
   "execution_count": null,
   "metadata": {},
   "outputs": [],
   "source": [
    "chirps_regridded_ds.isel(time=100)[\"precip\"].plot()"
   ]
  },
  {
   "cell_type": "code",
   "execution_count": null,
   "metadata": {},
   "outputs": [],
   "source": [
    "chirps_regridded_ds.to_netcdf(\n",
    "    DEST_PATH / \"input\" / f\"chirps_regridded_{CITY_NAME.lower()}.nc\", engine=\"scipy\"\n",
    ")"
   ]
  },
  {
   "cell_type": "code",
   "execution_count": null,
   "metadata": {},
   "outputs": [],
   "source": []
  }
 ],
 "metadata": {
  "kernelspec": {
   "display_name": "climate-downscaling",
   "language": "python",
   "name": "python3"
  },
  "language_info": {
   "codemirror_mode": {
    "name": "ipython",
    "version": 3
   },
   "file_extension": ".py",
   "mimetype": "text/x-python",
   "name": "python",
   "nbconvert_exporter": "python",
   "pygments_lexer": "ipython3",
   "version": "3.10.14"
  }
 },
 "nbformat": 4,
 "nbformat_minor": 2
}
