{
 "cells": [
  {
   "cell_type": "code",
   "execution_count": null,
   "metadata": {},
   "outputs": [],
   "source": [
    "%load_ext autoreload\n",
    "%autoreload 2\n",
    "\n",
    "# Standard imports\n",
    "from pathlib import Path\n",
    "import sys\n",
    "\n",
    "# Library imports\n",
    "import pandas as pd\n",
    "\n",
    "# Util imports\n",
    "sys.path.append(\"../../\")"
   ]
  },
  {
   "cell_type": "code",
   "execution_count": null,
   "metadata": {},
   "outputs": [],
   "source": [
    "CITY_NAME = \"Davao\"\n",
    "\n",
    "DATE = \"2008-07-01\"  # sample date for debugging\n",
    "YEARS = [2007, 2008, 2009, 2016, 2017, 2018]\n",
    "SHOULD_DEBUG = False\n",
    "PROCESSED_PATH = Path(\"../../data/02-processed\")\n",
    "CORRECTED_PATH = PROCESSED_PATH / \"bias-correction\"\n",
    "\n",
    "STATION_NC = CORRECTED_PATH / f\"station_{CITY_NAME.lower()}.nc\"\n",
    "GRIDDED_NC = (\n",
    "    PROCESSED_PATH\n",
    "    / f\"input/chirts_chirps_regridded_interpolated_{CITY_NAME.lower()}.nc\"\n",
    ")\n",
    "GRIDDED_SUBSET_NC = CORRECTED_PATH / f\"gridded_{CITY_NAME.lower()}.nc\""
   ]
  },
  {
   "cell_type": "code",
   "execution_count": null,
   "metadata": {},
   "outputs": [],
   "source": []
  },
  {
   "cell_type": "code",
   "execution_count": null,
   "metadata": {},
   "outputs": [],
   "source": [
    "city_names = [\n",
    "    \"Dagupan\",\n",
    "    \"Palayan\",\n",
    "    # \"MetroManila\",\n",
    "    \"Legazpi\",\n",
    "    \"Iloilo\",\n",
    "    \"Mandaue\",\n",
    "    \"Tacloban\",\n",
    "    \"Zamboanga\",\n",
    "    \"CagayanDeOro_Lumbia\",\n",
    "    \"CagayanDeOro_ElSalvador\",\n",
    "    \"Davao\",\n",
    "]"
   ]
  },
  {
   "cell_type": "code",
   "execution_count": null,
   "metadata": {},
   "outputs": [],
   "source": [
    "cities_df = pd.DataFrame(columns=[\"station\", \"var\", \"corr\", \"rmse\"])\n",
    "for city in city_names:\n",
    "    city_df = pd.read_parquet(CORRECTED_PATH / f\"stats_{city.lower()}.parquet\")\n",
    "    # print(city)\n",
    "    # print(city_df[[\"var\",\"corr\",\"rmse\"]])\n",
    "    city_df[\"station\"] = city\n",
    "    # print(city_df[[\"station\",\"var\",\"corr\",\"rmse\"]])\n",
    "    cities_df = pd.concat([cities_df, city_df[[\"station\", \"var\", \"corr\", \"rmse\"]]])\n",
    "cities_df = cities_df.reset_index(drop=True)\n",
    "cities_df.to_parquet(CORRECTED_PATH / \"stats_all_cities.parquet\")\n",
    "cities_df.sort_values(\"corr\")"
   ]
  },
  {
   "cell_type": "code",
   "execution_count": null,
   "metadata": {},
   "outputs": [],
   "source": []
  }
 ],
 "metadata": {
  "kernelspec": {
   "display_name": "climate-downscaling",
   "language": "python",
   "name": "python3"
  },
  "language_info": {
   "codemirror_mode": {
    "name": "ipython",
    "version": 3
   },
   "file_extension": ".py",
   "mimetype": "text/x-python",
   "name": "python",
   "nbconvert_exporter": "python",
   "pygments_lexer": "ipython3",
   "version": "3.10.14"
  }
 },
 "nbformat": 4,
 "nbformat_minor": 2
}
