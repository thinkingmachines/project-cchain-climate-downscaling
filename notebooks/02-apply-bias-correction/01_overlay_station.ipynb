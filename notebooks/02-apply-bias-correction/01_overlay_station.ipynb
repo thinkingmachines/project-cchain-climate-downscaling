{
 "cells": [
  {
   "cell_type": "code",
   "execution_count": null,
   "metadata": {},
   "outputs": [],
   "source": [
    "%load_ext autoreload\n",
    "%autoreload 2\n",
    "\n",
    "# Standard imports\n",
    "from pathlib import Path\n",
    "import sys\n",
    "\n",
    "# Library imports\n",
    "import numpy as np\n",
    "import pandas as pd\n",
    "import xarray as xr\n",
    "\n",
    "# Util imports\n",
    "sys.path.append(\"../../\")"
   ]
  },
  {
   "cell_type": "markdown",
   "metadata": {},
   "source": [
    "# Overlay station data to grids"
   ]
  },
  {
   "cell_type": "markdown",
   "metadata": {},
   "source": [
    "### Input parameters"
   ]
  },
  {
   "cell_type": "code",
   "execution_count": null,
   "metadata": {},
   "outputs": [],
   "source": [
    "CITY_NAME = \"Dagupan\"\n",
    "VARS = [\"precip\", \"tmax\", \"tmin\"]\n",
    "STATION_RESOLUTION_DEGREES = 0.25\n",
    "\n",
    "RAW_PATH = Path(\"../../data/01-raw\")\n",
    "PROCESSED_PATH = Path(\"../../data/02-processed\")\n",
    "CORRECTED_PATH = PROCESSED_PATH / \"bias-correction\"\n",
    "CORRECTED_PATH.mkdir(parents=True, exist_ok=True)\n",
    "\n",
    "DOMAINS_GEOJSON = RAW_PATH / \"domains/downscaling_domains_fixed.geojson\"\n",
    "STATION_LOCATION_CSV = RAW_PATH / \"station_data/PAGASA_station_locations.csv\"\n",
    "STATION_DATA_CSV = PROCESSED_PATH / \"station_data.csv\"\n",
    "\n",
    "STATION_NC = CORRECTED_PATH / f\"station_{CITY_NAME.lower()}.nc\"\n",
    "GRIDDED_NC = (\n",
    "    PROCESSED_PATH\n",
    "    / f\"input/chirts_chirps_regridded_interpolated_{CITY_NAME.lower()}.nc\"\n",
    ")\n",
    "GRIDDED_SUBSET_NC = CORRECTED_PATH / f\"gridded_{CITY_NAME.lower()}.nc\""
   ]
  },
  {
   "cell_type": "markdown",
   "metadata": {},
   "source": [
    "## Station data"
   ]
  },
  {
   "cell_type": "markdown",
   "metadata": {},
   "source": [
    "### Load station location"
   ]
  },
  {
   "cell_type": "code",
   "execution_count": null,
   "metadata": {},
   "outputs": [],
   "source": [
    "station_locations_df = pd.read_csv(STATION_LOCATION_CSV)\n",
    "station_locations_df.head()\n",
    "station_lats = station_locations_df.loc[\n",
    "    station_locations_df[\"station_name\"] == CITY_NAME, \"lat\"\n",
    "]\n",
    "station_lons = station_locations_df.loc[\n",
    "    station_locations_df[\"station_name\"] == CITY_NAME, \"lon\"\n",
    "]\n",
    "station_lat = station_lats.item()\n",
    "station_lon = station_lons.item()"
   ]
  },
  {
   "cell_type": "markdown",
   "metadata": {},
   "source": [
    "### Load station data"
   ]
  },
  {
   "cell_type": "code",
   "execution_count": null,
   "metadata": {},
   "outputs": [],
   "source": [
    "stations_df = pd.read_csv(STATION_DATA_CSV)\n",
    "station_df = (\n",
    "    stations_df[stations_df[\"station\"] == CITY_NAME]\n",
    "    .drop_duplicates()\n",
    "    .replace(-999, np.nan)\n",
    "    .rename(columns={\"rainfall\": \"precip\"})\n",
    "    .sort_values(\"date\")\n",
    "    .reset_index(drop=True)\n",
    ")\n",
    "station_df.head()"
   ]
  },
  {
   "cell_type": "markdown",
   "metadata": {},
   "source": [
    "### Arrange as a Dataset"
   ]
  },
  {
   "cell_type": "code",
   "execution_count": null,
   "metadata": {},
   "outputs": [],
   "source": [
    "station_ds = xr.Dataset(\n",
    "    data_vars={\n",
    "        var: (\n",
    "            [\"time\", \"lat\", \"lon\"],\n",
    "            station_df[var].to_numpy().reshape((len(station_df[\"date\"]), 1, 1)),\n",
    "        )\n",
    "        for var in VARS\n",
    "    },\n",
    "    coords=dict(\n",
    "        time=(\"time\", pd.DatetimeIndex(station_df[\"date\"])),\n",
    "        lon=(\"lon\", station_lons),\n",
    "        lat=(\"lat\", station_lats),\n",
    "    ),\n",
    "    attrs=dict(\n",
    "        description=\"Station data\",\n",
    "    ),\n",
    ")\n",
    "station_ds"
   ]
  },
  {
   "cell_type": "code",
   "execution_count": null,
   "metadata": {},
   "outputs": [],
   "source": [
    "station_ds.to_netcdf(STATION_NC, engine=\"scipy\")"
   ]
  },
  {
   "cell_type": "markdown",
   "metadata": {},
   "source": [
    "## Gridded data"
   ]
  },
  {
   "cell_type": "markdown",
   "metadata": {},
   "source": [
    "### Load gridded data"
   ]
  },
  {
   "cell_type": "code",
   "execution_count": null,
   "metadata": {},
   "outputs": [],
   "source": [
    "gridded_ds = xr.open_dataset(GRIDDED_NC, engine=\"scipy\").sel(band=1)\n",
    "gridded_ds"
   ]
  },
  {
   "cell_type": "code",
   "execution_count": null,
   "metadata": {},
   "outputs": [],
   "source": [
    "station_buffer = STATION_RESOLUTION_DEGREES / 2\n",
    "gridded_subset_ds = gridded_ds.where(\n",
    "    (gridded_ds.lat >= (station_lat - station_buffer))\n",
    "    & (gridded_ds.lat <= (station_lat + station_buffer))\n",
    "    & (gridded_ds.lon >= (station_lon - station_buffer))\n",
    "    & (gridded_ds.lon <= (station_lon + station_buffer)),\n",
    "    drop=True,\n",
    ")\n",
    "gridded_subset_ds"
   ]
  },
  {
   "cell_type": "code",
   "execution_count": null,
   "metadata": {},
   "outputs": [],
   "source": [
    "gridded_subset_ds.to_netcdf(GRIDDED_SUBSET_NC, engine=\"scipy\")"
   ]
  },
  {
   "cell_type": "code",
   "execution_count": null,
   "metadata": {},
   "outputs": [],
   "source": []
  }
 ],
 "metadata": {
  "kernelspec": {
   "display_name": "climate-downscaling",
   "language": "python",
   "name": "python3"
  },
  "language_info": {
   "codemirror_mode": {
    "name": "ipython",
    "version": 3
   },
   "file_extension": ".py",
   "mimetype": "text/x-python",
   "name": "python",
   "nbconvert_exporter": "python",
   "pygments_lexer": "ipython3",
   "version": "3.10.14"
  }
 },
 "nbformat": 4,
 "nbformat_minor": 2
}
